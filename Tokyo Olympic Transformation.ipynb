{
 "cells": [
  {
   "cell_type": "code",
   "execution_count": 0,
   "metadata": {
    "application/vnd.databricks.v1+cell": {
     "cellMetadata": {
      "byteLimit": 2048000,
      "rowLimit": 10000
     },
     "inputWidgets": {},
     "nuid": "2d67630a-bc38-4cfa-b798-faa3571542c7",
     "showTitle": false,
     "tableResultSettingsMap": {},
     "title": ""
    }
   },
   "outputs": [],
   "source": [
    "from pyspark.sql.functions import col\n",
    "from pyspark.sql.types import IntegerType, DoubleType, BooleanType, DateType"
   ]
  },
  {
   "cell_type": "code",
   "execution_count": 0,
   "metadata": {
    "application/vnd.databricks.v1+cell": {
     "cellMetadata": {
      "byteLimit": 2048000,
      "rowLimit": 10000
     },
     "inputWidgets": {},
     "nuid": "de2513aa-1ace-48d7-925c-d443b6548cde",
     "showTitle": false,
     "tableResultSettingsMap": {},
     "title": ""
    }
   },
   "outputs": [
    {
     "data": {
      "text/plain": [
       "True"
      ]
     },
     "execution_count": 3,
     "metadata": {},
     "output_type": "execute_result"
    }
   ],
   "source": [
    "configs = {\"fs.azure.account.auth.type\": \"OAuth\",\n",
    "\"fs.azure.account.oauth.provider.type\": \"org.apache.hadoop.fs.azurebfs.oauth2.ClientCredsTokenProvider\",\n",
    "\"fs.azure.account.oauth2.client.id\": \"your_client_id\",\n",
    "\"fs.azure.account.oauth2.client.secret\": 'your_secret_id',\n",
    "\"fs.azure.account.oauth2.client.endpoint\": \"https://login.microsoftonline.com/0d861985-ad61-4658-85ce-1e2b192cc1e0/oauth2/token\"}\n",
    "\n",
    "dbutils.fs.mount(\n",
    "source = \"abfss://data-tokyo-olympic@tokyoolympicdataset16.dfs.core.windows.net\", # contrainer@storageacc\n",
    "mount_point = \"/mnt/tokyoolymic\",\n",
    "extra_configs = configs)\n"
   ]
  },
  {
   "cell_type": "code",
   "execution_count": 0,
   "metadata": {
    "application/vnd.databricks.v1+cell": {
     "cellMetadata": {
      "byteLimit": 2048000,
      "rowLimit": 10000
     },
     "inputWidgets": {},
     "nuid": "1bbd9f4b-f7f8-4ed3-a099-b74c4e2f7fad",
     "showTitle": false,
     "tableResultSettingsMap": {},
     "title": ""
    }
   },
   "outputs": [
    {
     "data": {
      "text/html": [
       "<style scoped>\n",
       "  .table-result-container {\n",
       "    max-height: 300px;\n",
       "    overflow: auto;\n",
       "  }\n",
       "  table, th, td {\n",
       "    border: 1px solid black;\n",
       "    border-collapse: collapse;\n",
       "  }\n",
       "  th, td {\n",
       "    padding: 5px;\n",
       "  }\n",
       "  th {\n",
       "    text-align: left;\n",
       "  }\n",
       "</style><div class='table-result-container'><table class='table-result'><thead style='background-color: white'><tr><th>path</th><th>name</th><th>size</th><th>modificationTime</th></tr></thead><tbody><tr><td>dbfs:/mnt/tokyoolymic/raw-data/</td><td>raw-data/</td><td>0</td><td>1756032342000</td></tr><tr><td>dbfs:/mnt/tokyoolymic/transformed-data/</td><td>transformed-data/</td><td>0</td><td>1756032353000</td></tr></tbody></table></div>"
      ]
     },
     "metadata": {
      "application/vnd.databricks.v1+output": {
       "addedWidgets": {},
       "aggData": [],
       "aggError": "",
       "aggOverflow": false,
       "aggSchema": [],
       "aggSeriesLimitReached": false,
       "aggType": "",
       "arguments": {},
       "columnCustomDisplayInfos": {},
       "data": [
        [
         "dbfs:/mnt/tokyoolymic/raw-data/",
         "raw-data/",
         0,
         1756032342000
        ],
        [
         "dbfs:/mnt/tokyoolymic/transformed-data/",
         "transformed-data/",
         0,
         1756032353000
        ]
       ],
       "datasetInfos": [],
       "dbfsResultPath": null,
       "isJsonSchema": true,
       "metadata": {
        "isDbfsCommandResult": false
       },
       "overflow": false,
       "plotOptions": {
        "customPlotOptions": {},
        "displayType": "table",
        "pivotAggregation": null,
        "pivotColumns": null,
        "xColumns": null,
        "yColumns": null
       },
       "removedWidgets": [],
       "schema": [
        {
         "metadata": "{}",
         "name": "path",
         "type": "\"string\""
        },
        {
         "metadata": "{}",
         "name": "name",
         "type": "\"string\""
        },
        {
         "metadata": "{}",
         "name": "size",
         "type": "\"long\""
        },
        {
         "metadata": "{}",
         "name": "modificationTime",
         "type": "\"long\""
        }
       ],
       "type": "table"
      }
     },
     "output_type": "display_data"
    }
   ],
   "source": [
    "%fs\n",
    "ls \"/mnt/tokyoolymic\""
   ]
  },
  {
   "cell_type": "code",
   "execution_count": 0,
   "metadata": {
    "application/vnd.databricks.v1+cell": {
     "cellMetadata": {
      "byteLimit": 2048000,
      "rowLimit": 10000
     },
     "inputWidgets": {},
     "nuid": "0366285f-72bc-4e99-be3c-d400a687a6d4",
     "showTitle": false,
     "tableResultSettingsMap": {},
     "title": ""
    }
   },
   "outputs": [
    {
     "data": {
      "text/html": [
       "\n",
       "            <div>\n",
       "                <p><b>SparkSession - hive</b></p>\n",
       "                \n",
       "        <div>\n",
       "            <p><b>SparkContext</b></p>\n",
       "\n",
       "            <p><a href=\"/?o=1146130289672160#setting/sparkui/0824-130929-v3uzn5wu/driver-550137800841880169\">Spark UI</a></p>\n",
       "\n",
       "            <dl>\n",
       "              <dt>Version</dt>\n",
       "                <dd><code>v3.5.2</code></dd>\n",
       "              <dt>Master</dt>\n",
       "                <dd><code>local[*, 4]</code></dd>\n",
       "              <dt>AppName</dt>\n",
       "                <dd><code>Databricks Shell</code></dd>\n",
       "            </dl>\n",
       "        </div>\n",
       "        \n",
       "            </div>\n",
       "        "
      ],
      "text/plain": [
       "<pyspark.sql.session.SparkSession at 0x7f6f8394bfb0>"
      ]
     },
     "execution_count": 5,
     "metadata": {},
     "output_type": "execute_result"
    }
   ],
   "source": [
    "spark\n"
   ]
  },
  {
   "cell_type": "code",
   "execution_count": 0,
   "metadata": {
    "application/vnd.databricks.v1+cell": {
     "cellMetadata": {
      "byteLimit": 2048000,
      "rowLimit": 10000
     },
     "inputWidgets": {},
     "nuid": "3e403eef-60b7-42c0-8ba8-8cda4e27795b",
     "showTitle": false,
     "tableResultSettingsMap": {},
     "title": ""
    }
   },
   "outputs": [],
   "source": [
    "athletes = spark.read.format(\"csv\").option(\"header\",\"true\").load(\"/mnt/tokyoolymic/raw-data/athletes.csv\")\n",
    "medals = spark.read.format(\"csv\").option(\"header\",\"true\").load(\"/mnt/tokyoolymic/raw-data/Medals.csv\")\n",
    "teams = spark.read.format(\"csv\").option(\"header\",\"true\").load(\"/mnt/tokyoolymic/raw-data/Teams.csv\")\n",
    "coaches = spark.read.format(\"csv\").option(\"header\",\"true\").load(\"/mnt/tokyoolymic/raw-data/coaches.csv\")\n",
    "entries_gender = spark.read.format(\"csv\").option(\"header\",\"true\").load(\"/mnt/tokyoolymic/raw-data/entriesGender.csv\")"
   ]
  },
  {
   "cell_type": "code",
   "execution_count": 0,
   "metadata": {
    "application/vnd.databricks.v1+cell": {
     "cellMetadata": {
      "byteLimit": 2048000,
      "rowLimit": 10000
     },
     "inputWidgets": {},
     "nuid": "91e64841-3577-468a-9963-8ee13adfe608",
     "showTitle": false,
     "tableResultSettingsMap": {
      "0": {
       "dataGridStateBlob": "{\"version\":1,\"tableState\":{\"columnPinning\":{\"left\":[\"#row_number#\"],\"right\":[]},\"columnSizing\":{},\"columnVisibility\":{}},\"settings\":{\"columns\":{}},\"syncTimestamp\":1756042884229}",
       "filterBlob": null,
       "queryPlanFiltersBlob": null,
       "tableResultIndex": 0
      }
     },
     "title": ""
    }
   },
   "outputs": [
    {
     "data": {
      "text/html": [
       "<style scoped>\n",
       "  .table-result-container {\n",
       "    max-height: 300px;\n",
       "    overflow: auto;\n",
       "  }\n",
       "  table, th, td {\n",
       "    border: 1px solid black;\n",
       "    border-collapse: collapse;\n",
       "  }\n",
       "  th, td {\n",
       "    padding: 5px;\n",
       "  }\n",
       "  th {\n",
       "    text-align: left;\n",
       "  }\n",
       "</style><div class='table-result-container'><table class='table-result'><thead style='background-color: white'><tr><th>TeamName</th><th>Discipline</th><th>Country</th><th>Event</th></tr></thead><tbody><tr><td>Belgium</td><td>3x3 Basketball</td><td>Belgium</td><td>Men</td></tr><tr><td>China</td><td>3x3 Basketball</td><td>People's Republic of China</td><td>Men</td></tr><tr><td>China</td><td>3x3 Basketball</td><td>People's Republic of China</td><td>Women</td></tr><tr><td>France</td><td>3x3 Basketball</td><td>France</td><td>Women</td></tr><tr><td>Italy</td><td>3x3 Basketball</td><td>Italy</td><td>Women</td></tr><tr><td>Japan</td><td>3x3 Basketball</td><td>Japan</td><td>Men</td></tr><tr><td>Japan</td><td>3x3 Basketball</td><td>Japan</td><td>Women</td></tr><tr><td>Latvia</td><td>3x3 Basketball</td><td>Latvia</td><td>Men</td></tr><tr><td>Mongolia</td><td>3x3 Basketball</td><td>Mongolia</td><td>Women</td></tr><tr><td>Netherlands</td><td>3x3 Basketball</td><td>Netherlands</td><td>Men</td></tr><tr><td>Poland</td><td>3x3 Basketball</td><td>Poland</td><td>Men</td></tr><tr><td>ROC</td><td>3x3 Basketball</td><td>ROC</td><td>Men</td></tr><tr><td>ROC</td><td>3x3 Basketball</td><td>ROC</td><td>Women</td></tr><tr><td>Romania</td><td>3x3 Basketball</td><td>Romania</td><td>Women</td></tr><tr><td>Serbia</td><td>3x3 Basketball</td><td>Serbia</td><td>Men</td></tr><tr><td>United States</td><td>3x3 Basketball</td><td>United States of America</td><td>Women</td></tr><tr><td>Australia</td><td>Archery</td><td>Australia</td><td>Men's Team</td></tr><tr><td>Australia</td><td>Archery</td><td>Australia</td><td>Mixed Team</td></tr><tr><td>Bangladesh</td><td>Archery</td><td>Bangladesh</td><td>Mixed Team</td></tr><tr><td>Belarus</td><td>Archery</td><td>Belarus</td><td>Women's Team</td></tr><tr><td>Brazil</td><td>Archery</td><td>Brazil</td><td>Mixed Team</td></tr><tr><td>Canada</td><td>Archery</td><td>Canada</td><td>Mixed Team</td></tr><tr><td>China</td><td>Archery</td><td>People's Republic of China</td><td>Men's Team</td></tr><tr><td>China</td><td>Archery</td><td>People's Republic of China</td><td>Mixed Team</td></tr><tr><td>China</td><td>Archery</td><td>People's Republic of China</td><td>Women's Team</td></tr><tr><td>Chinese Taipei</td><td>Archery</td><td>Chinese Taipei</td><td>Men's Team</td></tr><tr><td>Chinese Taipei</td><td>Archery</td><td>Chinese Taipei</td><td>Mixed Team</td></tr><tr><td>Chinese Taipei</td><td>Archery</td><td>Chinese Taipei</td><td>Women's Team</td></tr><tr><td>Colombia</td><td>Archery</td><td>Colombia</td><td>Mixed Team</td></tr><tr><td>Egypt</td><td>Archery</td><td>Egypt</td><td>Mixed Team</td></tr><tr><td>France</td><td>Archery</td><td>France</td><td>Men's Team</td></tr><tr><td>France</td><td>Archery</td><td>France</td><td>Mixed Team</td></tr><tr><td>Germany</td><td>Archery</td><td>Germany</td><td>Mixed Team</td></tr><tr><td>Germany</td><td>Archery</td><td>Germany</td><td>Women's Team</td></tr><tr><td>Great Britain</td><td>Archery</td><td>Great Britain</td><td>Men's Team</td></tr><tr><td>Great Britain</td><td>Archery</td><td>Great Britain</td><td>Mixed Team</td></tr><tr><td>Great Britain</td><td>Archery</td><td>Great Britain</td><td>Women's Team</td></tr><tr><td>India</td><td>Archery</td><td>India</td><td>Men's Team</td></tr><tr><td>India</td><td>Archery</td><td>India</td><td>Mixed Team</td></tr><tr><td>Indonesia</td><td>Archery</td><td>Indonesia</td><td>Men's Team</td></tr><tr><td>Indonesia</td><td>Archery</td><td>Indonesia</td><td>Mixed Team</td></tr><tr><td>Italy</td><td>Archery</td><td>Italy</td><td>Mixed Team</td></tr><tr><td>Italy</td><td>Archery</td><td>Italy</td><td>Women's Team</td></tr><tr><td>Japan</td><td>Archery</td><td>Japan</td><td>Men's Team</td></tr><tr><td>Japan</td><td>Archery</td><td>Japan</td><td>Mixed Team</td></tr><tr><td>Japan</td><td>Archery</td><td>Japan</td><td>Women's Team</td></tr><tr><td>Kazakhstan</td><td>Archery</td><td>Kazakhstan</td><td>Men's Team</td></tr><tr><td>Malaysia</td><td>Archery</td><td>Malaysia</td><td>Mixed Team</td></tr><tr><td>Mexico</td><td>Archery</td><td>Mexico</td><td>Mixed Team</td></tr><tr><td>Mexico</td><td>Archery</td><td>Mexico</td><td>Women's Team</td></tr><tr><td>Mongolia</td><td>Archery</td><td>Mongolia</td><td>Mixed Team</td></tr><tr><td>Netherlands</td><td>Archery</td><td>Netherlands</td><td>Men's Team</td></tr><tr><td>Netherlands</td><td>Archery</td><td>Netherlands</td><td>Mixed Team</td></tr><tr><td>Poland</td><td>Archery</td><td>Poland</td><td>Mixed Team</td></tr><tr><td>Rep. of Moldova</td><td>Archery</td><td>Republic of Moldova</td><td>Mixed Team</td></tr><tr><td>Republic of Korea</td><td>Archery</td><td>Republic of Korea</td><td>Men's Team</td></tr><tr><td>Republic of Korea</td><td>Archery</td><td>Republic of Korea</td><td>Mixed Team</td></tr><tr><td>Republic of Korea</td><td>Archery</td><td>Republic of Korea</td><td>Women's Team</td></tr><tr><td>ROC</td><td>Archery</td><td>ROC</td><td>Mixed Team</td></tr><tr><td>ROC</td><td>Archery</td><td>ROC</td><td>Women's Team</td></tr><tr><td>Spain</td><td>Archery</td><td>Spain</td><td>Mixed Team</td></tr><tr><td>Tunisia</td><td>Archery</td><td>Tunisia</td><td>Mixed Team</td></tr><tr><td>Turkey</td><td>Archery</td><td>Turkey</td><td>Mixed Team</td></tr><tr><td>Ukraine</td><td>Archery</td><td>Ukraine</td><td>Mixed Team</td></tr><tr><td>Ukraine</td><td>Archery</td><td>Ukraine</td><td>Women's Team</td></tr><tr><td>United States</td><td>Archery</td><td>United States of America</td><td>Men's Team</td></tr><tr><td>United States</td><td>Archery</td><td>United States of America</td><td>Mixed Team</td></tr><tr><td>United States</td><td>Archery</td><td>United States of America</td><td>Women's Team</td></tr><tr><td>Vietnam</td><td>Archery</td><td>Vietnam</td><td>Mixed Team</td></tr><tr><td>Belgium</td><td>Artistic Gymnastics</td><td>Belgium</td><td>Women's Team</td></tr><tr><td>Brazil</td><td>Artistic Gymnastics</td><td>Brazil</td><td>Men's Team</td></tr><tr><td>Canada</td><td>Artistic Gymnastics</td><td>Canada</td><td>Women's Team</td></tr><tr><td>China</td><td>Artistic Gymnastics</td><td>People's Republic of China</td><td>Men's Team</td></tr><tr><td>China</td><td>Artistic Gymnastics</td><td>People's Republic of China</td><td>Women's Team</td></tr><tr><td>Chinese Taipei</td><td>Artistic Gymnastics</td><td>Chinese Taipei</td><td>Men's Team</td></tr><tr><td>France</td><td>Artistic Gymnastics</td><td>France</td><td>Women's Team</td></tr><tr><td>Germany</td><td>Artistic Gymnastics</td><td>Germany</td><td>Men's Team</td></tr><tr><td>Germany</td><td>Artistic Gymnastics</td><td>Germany</td><td>Women's Team</td></tr><tr><td>Great Britain</td><td>Artistic Gymnastics</td><td>Great Britain</td><td>Men's Team</td></tr><tr><td>Great Britain</td><td>Artistic Gymnastics</td><td>Great Britain</td><td>Women's Team</td></tr><tr><td>Italy</td><td>Artistic Gymnastics</td><td>Italy</td><td>Women's Team</td></tr><tr><td>Japan</td><td>Artistic Gymnastics</td><td>Japan</td><td>Men's Team</td></tr><tr><td>Japan</td><td>Artistic Gymnastics</td><td>Japan</td><td>Women's Team</td></tr><tr><td>Netherlands</td><td>Artistic Gymnastics</td><td>Netherlands</td><td>Women's Team</td></tr><tr><td>Korea</td><td>Artistic Gymnastics</td><td>Republic of Korea</td><td>Men's Team</td></tr><tr><td>ROC</td><td>Artistic Gymnastics</td><td>ROC</td><td>Men's Team</td></tr><tr><td>ROC</td><td>Artistic Gymnastics</td><td>ROC</td><td>Women's Team</td></tr><tr><td>Spain</td><td>Artistic Gymnastics</td><td>Spain</td><td>Men's Team</td></tr><tr><td>Spain</td><td>Artistic Gymnastics</td><td>Spain</td><td>Women's Team</td></tr><tr><td>Switzerland</td><td>Artistic Gymnastics</td><td>Switzerland</td><td>Men's Team</td></tr><tr><td>Ukraine</td><td>Artistic Gymnastics</td><td>Ukraine</td><td>Men's Team</td></tr><tr><td>United States</td><td>Artistic Gymnastics</td><td>United States of America</td><td>Men's Team</td></tr><tr><td>United States</td><td>Artistic Gymnastics</td><td>United States of America</td><td>Women's Team</td></tr><tr><td>Australia</td><td>Artistic Swimming</td><td>Australia</td><td>Duet</td></tr><tr><td>Australia</td><td>Artistic Swimming</td><td>Australia</td><td>Team</td></tr><tr><td>Austria</td><td>Artistic Swimming</td><td>Austria</td><td>Duet</td></tr><tr><td>Belarus</td><td>Artistic Swimming</td><td>Belarus</td><td>Duet</td></tr><tr><td>Canada</td><td>Artistic Swimming</td><td>Canada</td><td>Duet</td></tr><tr><td>Canada</td><td>Artistic Swimming</td><td>Canada</td><td>Team</td></tr><tr><td>China</td><td>Artistic Swimming</td><td>People's Republic of China</td><td>Duet</td></tr><tr><td>China</td><td>Artistic Swimming</td><td>People's Republic of China</td><td>Team</td></tr><tr><td>Colombia</td><td>Artistic Swimming</td><td>Colombia</td><td>Duet</td></tr><tr><td>Egypt</td><td>Artistic Swimming</td><td>Egypt</td><td>Duet</td></tr><tr><td>Egypt</td><td>Artistic Swimming</td><td>Egypt</td><td>Team</td></tr><tr><td>France</td><td>Artistic Swimming</td><td>France</td><td>Duet</td></tr><tr><td>Great Britain</td><td>Artistic Swimming</td><td>Great Britain</td><td>Duet</td></tr><tr><td>Greece</td><td>Artistic Swimming</td><td>Greece</td><td>Duet</td></tr><tr><td>Greece</td><td>Artistic Swimming</td><td>Greece</td><td>Team</td></tr><tr><td>Israel</td><td>Artistic Swimming</td><td>Israel</td><td>Duet</td></tr><tr><td>Italy</td><td>Artistic Swimming</td><td>Italy</td><td>Duet</td></tr><tr><td>Italy</td><td>Artistic Swimming</td><td>Italy</td><td>Team</td></tr><tr><td>Japan</td><td>Artistic Swimming</td><td>Japan</td><td>Duet</td></tr><tr><td>Japan</td><td>Artistic Swimming</td><td>Japan</td><td>Team</td></tr><tr><td>Kazakhstan</td><td>Artistic Swimming</td><td>Kazakhstan</td><td>Duet</td></tr><tr><td>Liechtenstein</td><td>Artistic Swimming</td><td>Liechtenstein</td><td>Duet</td></tr><tr><td>Mexico</td><td>Artistic Swimming</td><td>Mexico</td><td>Duet</td></tr><tr><td>Netherlands</td><td>Artistic Swimming</td><td>Netherlands</td><td>Duet</td></tr><tr><td>ROC</td><td>Artistic Swimming</td><td>ROC</td><td>Duet</td></tr><tr><td>ROC</td><td>Artistic Swimming</td><td>ROC</td><td>Team</td></tr><tr><td>South Africa</td><td>Artistic Swimming</td><td>South Africa</td><td>Duet</td></tr><tr><td>Spain</td><td>Artistic Swimming</td><td>Spain</td><td>Duet</td></tr><tr><td>Spain</td><td>Artistic Swimming</td><td>Spain</td><td>Team</td></tr><tr><td>Ukraine</td><td>Artistic Swimming</td><td>Ukraine</td><td>Duet</td></tr><tr><td>Ukraine</td><td>Artistic Swimming</td><td>Ukraine</td><td>Team</td></tr><tr><td>United States</td><td>Artistic Swimming</td><td>United States of America</td><td>Duet</td></tr><tr><td>Australia</td><td>Athletics</td><td>Australia</td><td>Women's 4 x 400m Relay</td></tr><tr><td>Bahamas</td><td>Athletics</td><td>Bahamas</td><td>Women's 4 x 400m Relay</td></tr><tr><td>Belarus</td><td>Athletics</td><td>Belarus</td><td>Women's 4 x 400m Relay</td></tr><tr><td>Belgium</td><td>Athletics</td><td>Belgium</td><td>4 x 400m Relay Mixed</td></tr><tr><td>Belgium</td><td>Athletics</td><td>Belgium</td><td>Men's 4 x 400m Relay</td></tr><tr><td>Belgium</td><td>Athletics</td><td>Belgium</td><td>Women's 4 x 400m Relay</td></tr><tr><td>Botswana</td><td>Athletics</td><td>Botswana</td><td>Men's 4 x 400m Relay</td></tr><tr><td>Brazil</td><td>Athletics</td><td>Brazil</td><td>4 x 400m Relay Mixed</td></tr><tr><td>Brazil</td><td>Athletics</td><td>Brazil</td><td>Men's 4 x 100m Relay</td></tr><tr><td>Brazil</td><td>Athletics</td><td>Brazil</td><td>Women's 4 x 100m Relay</td></tr><tr><td>Canada</td><td>Athletics</td><td>Canada</td><td>Men's 4 x 100m Relay</td></tr><tr><td>Canada</td><td>Athletics</td><td>Canada</td><td>Women's 4 x 400m Relay</td></tr><tr><td>China</td><td>Athletics</td><td>People's Republic of China</td><td>Men's 4 x 100m Relay</td></tr><tr><td>China</td><td>Athletics</td><td>People's Republic of China</td><td>Women's 4 x 100m Relay</td></tr><tr><td>Colombia</td><td>Athletics</td><td>Colombia</td><td>Men's 4 x 400m Relay</td></tr><tr><td>Cuba</td><td>Athletics</td><td>Cuba</td><td>Women's 4 x 400m Relay</td></tr><tr><td>Czech Republic</td><td>Athletics</td><td>Czech Republic</td><td>Men's 4 x 400m Relay</td></tr><tr><td>Denmark</td><td>Athletics</td><td>Denmark</td><td>Men's 4 x 100m Relay</td></tr><tr><td>Denmark</td><td>Athletics</td><td>Denmark</td><td>Women's 4 x 100m Relay</td></tr><tr><td>Dominican Rep.</td><td>Athletics</td><td>Dominican Republic</td><td>4 x 400m Relay Mixed</td></tr><tr><td>Ecuador</td><td>Athletics</td><td>Ecuador</td><td>Women's 4 x 100m Relay</td></tr><tr><td>France</td><td>Athletics</td><td>France</td><td>Men's 4 x 100m Relay</td></tr><tr><td>France</td><td>Athletics</td><td>France</td><td>Men's 4 x 400m Relay</td></tr><tr><td>France</td><td>Athletics</td><td>France</td><td>Women's 4 x 100m Relay</td></tr><tr><td>France</td><td>Athletics</td><td>France</td><td>Women's 4 x 400m Relay</td></tr><tr><td>Germany</td><td>Athletics</td><td>Germany</td><td>4 x 400m Relay Mixed</td></tr><tr><td>Germany</td><td>Athletics</td><td>Germany</td><td>Men's 4 x 100m Relay</td></tr><tr><td>Germany</td><td>Athletics</td><td>Germany</td><td>Men's 4 x 400m Relay</td></tr><tr><td>Germany</td><td>Athletics</td><td>Germany</td><td>Women's 4 x 100m Relay</td></tr><tr><td>Germany</td><td>Athletics</td><td>Germany</td><td>Women's 4 x 400m Relay</td></tr><tr><td>Ghana</td><td>Athletics</td><td>Ghana</td><td>Men's 4 x 100m Relay</td></tr><tr><td>Great Britain</td><td>Athletics</td><td>Great Britain</td><td>4 x 400m Relay Mixed</td></tr><tr><td>Great Britain</td><td>Athletics</td><td>Great Britain</td><td>Men's 4 x 100m Relay</td></tr><tr><td>Great Britain</td><td>Athletics</td><td>Great Britain</td><td>Men's 4 x 400m Relay</td></tr><tr><td>Great Britain</td><td>Athletics</td><td>Great Britain</td><td>Women's 4 x 100m Relay</td></tr><tr><td>Great Britain</td><td>Athletics</td><td>Great Britain</td><td>Women's 4 x 400m Relay</td></tr><tr><td>India</td><td>Athletics</td><td>India</td><td>4 x 400m Relay Mixed</td></tr><tr><td>India</td><td>Athletics</td><td>India</td><td>Men's 4 x 400m Relay</td></tr><tr><td>Ireland</td><td>Athletics</td><td>Ireland</td><td>4 x 400m Relay Mixed</td></tr><tr><td>Italy</td><td>Athletics</td><td>Italy</td><td>4 x 400m Relay Mixed</td></tr><tr><td>Italy</td><td>Athletics</td><td>Italy</td><td>Men's 4 x 100m Relay</td></tr><tr><td>Italy</td><td>Athletics</td><td>Italy</td><td>Men's 4 x 400m Relay</td></tr><tr><td>Italy</td><td>Athletics</td><td>Italy</td><td>Women's 4 x 100m Relay</td></tr><tr><td>Italy</td><td>Athletics</td><td>Italy</td><td>Women's 4 x 400m Relay</td></tr><tr><td>Jamaica</td><td>Athletics</td><td>Jamaica</td><td>4 x 400m Relay Mixed</td></tr><tr><td>Jamaica</td><td>Athletics</td><td>Jamaica</td><td>Men's 4 x 100m Relay</td></tr><tr><td>Jamaica</td><td>Athletics</td><td>Jamaica</td><td>Men's 4 x 400m Relay</td></tr><tr><td>Jamaica</td><td>Athletics</td><td>Jamaica</td><td>Women's 4 x 100m Relay</td></tr><tr><td>Jamaica</td><td>Athletics</td><td>Jamaica</td><td>Women's 4 x 400m Relay</td></tr><tr><td>Japan</td><td>Athletics</td><td>Japan</td><td>Men's 4 x 100m Relay</td></tr><tr><td>Japan</td><td>Athletics</td><td>Japan</td><td>Men's 4 x 400m Relay</td></tr><tr><td>Japan</td><td>Athletics</td><td>Japan</td><td>Women's 4 x 100m Relay</td></tr><tr><td>Netherlands</td><td>Athletics</td><td>Netherlands</td><td>4 x 400m Relay Mixed</td></tr><tr><td>Netherlands</td><td>Athletics</td><td>Netherlands</td><td>Men's 4 x 100m Relay</td></tr><tr><td>Netherlands</td><td>Athletics</td><td>Netherlands</td><td>Men's 4 x 400m Relay</td></tr><tr><td>Netherlands</td><td>Athletics</td><td>Netherlands</td><td>Women's 4 x 100m Relay</td></tr><tr><td>Netherlands</td><td>Athletics</td><td>Netherlands</td><td>Women's 4 x 400m Relay</td></tr><tr><td>Nigeria</td><td>Athletics</td><td>Nigeria</td><td>4 x 400m Relay Mixed</td></tr><tr><td>Nigeria</td><td>Athletics</td><td>Nigeria</td><td>Women's 4 x 100m Relay</td></tr><tr><td>Poland</td><td>Athletics</td><td>Poland</td><td>4 x 400m Relay Mixed</td></tr><tr><td>Poland</td><td>Athletics</td><td>Poland</td><td>Men's 4 x 400m Relay</td></tr><tr><td>Poland</td><td>Athletics</td><td>Poland</td><td>Women's 4 x 100m Relay</td></tr><tr><td>Poland</td><td>Athletics</td><td>Poland</td><td>Women's 4 x 400m Relay</td></tr><tr><td>South Africa</td><td>Athletics</td><td>South Africa</td><td>Men's 4 x 100m Relay</td></tr><tr><td>South Africa</td><td>Athletics</td><td>South Africa</td><td>Men's 4 x 400m Relay</td></tr><tr><td>Spain</td><td>Athletics</td><td>Spain</td><td>4 x 400m Relay Mixed</td></tr><tr><td>Switzerland</td><td>Athletics</td><td>Switzerland</td><td>Women's 4 x 100m Relay</td></tr><tr><td>Switzerland</td><td>Athletics</td><td>Switzerland</td><td>Women's 4 x 400m Relay</td></tr><tr><td>Trinidad & Tobago</td><td>Athletics</td><td>Trinidad and Tobago</td><td>Men's 4 x 100m Relay</td></tr><tr><td>Trinidad & Tobago</td><td>Athletics</td><td>Trinidad and Tobago</td><td>Men's 4 x 400m Relay</td></tr><tr><td>Trinidad & Tobago</td><td>Athletics</td><td>Trinidad and Tobago</td><td>Women's 4 x 100m Relay</td></tr><tr><td>Turkey</td><td>Athletics</td><td>Turkey</td><td>Men's 4 x 100m Relay</td></tr><tr><td>Ukraine</td><td>Athletics</td><td>Ukraine</td><td>4 x 400m Relay Mixed</td></tr><tr><td>Ukraine</td><td>Athletics</td><td>Ukraine</td><td>Women's 4 x 400m Relay</td></tr><tr><td>United States</td><td>Athletics</td><td>United States of America</td><td>4 x 400m Relay Mixed</td></tr><tr><td>United States</td><td>Athletics</td><td>United States of America</td><td>Men's 4 x 100m Relay</td></tr><tr><td>United States</td><td>Athletics</td><td>United States of America</td><td>Men's 4 x 400m Relay</td></tr><tr><td>United States</td><td>Athletics</td><td>United States of America</td><td>Women's 4 x 100m Relay</td></tr><tr><td>United States</td><td>Athletics</td><td>United States of America</td><td>Women's 4 x 400m Relay</td></tr><tr><td>Australia</td><td>Baseball/Softball</td><td>Australia</td><td>Softball</td></tr><tr><td>Canada</td><td>Baseball/Softball</td><td>Canada</td><td>Softball</td></tr><tr><td>Dominican Rep.</td><td>Baseball/Softball</td><td>Dominican Republic</td><td>Baseball</td></tr><tr><td>Israel</td><td>Baseball/Softball</td><td>Israel</td><td>Baseball</td></tr><tr><td>Italy</td><td>Baseball/Softball</td><td>Italy</td><td>Softball</td></tr><tr><td>Japan</td><td>Baseball/Softball</td><td>Japan</td><td>Baseball</td></tr><tr><td>Japan</td><td>Baseball/Softball</td><td>Japan</td><td>Softball</td></tr><tr><td>Mexico</td><td>Baseball/Softball</td><td>Mexico</td><td>Baseball</td></tr><tr><td>Mexico</td><td>Baseball/Softball</td><td>Mexico</td><td>Softball</td></tr><tr><td>Republic of Korea</td><td>Baseball/Softball</td><td>Republic of Korea</td><td>Baseball</td></tr><tr><td>United States</td><td>Baseball/Softball</td><td>United States of America</td><td>Baseball</td></tr><tr><td>United States</td><td>Baseball/Softball</td><td>United States of America</td><td>Softball</td></tr><tr><td>Argentina</td><td>Basketball</td><td>Argentina</td><td>Men</td></tr><tr><td>Australia</td><td>Basketball</td><td>Australia</td><td>Men</td></tr><tr><td>Australia</td><td>Basketball</td><td>Australia</td><td>Women</td></tr><tr><td>Belgium</td><td>Basketball</td><td>Belgium</td><td>Women</td></tr><tr><td>Canada</td><td>Basketball</td><td>Canada</td><td>Women</td></tr><tr><td>China</td><td>Basketball</td><td>People's Republic of China</td><td>Women</td></tr><tr><td>Czech Republic</td><td>Basketball</td><td>Czech Republic</td><td>Men</td></tr><tr><td>France</td><td>Basketball</td><td>France</td><td>Men</td></tr><tr><td>France</td><td>Basketball</td><td>France</td><td>Women</td></tr><tr><td>Germany</td><td>Basketball</td><td>Germany</td><td>Men</td></tr><tr><td>Islamic Rep. of Iran</td><td>Basketball</td><td>Islamic Republic of Iran</td><td>Men</td></tr><tr><td>Italy</td><td>Basketball</td><td>Italy</td><td>Men</td></tr><tr><td>Japan</td><td>Basketball</td><td>Japan</td><td>Men</td></tr><tr><td>Japan</td><td>Basketball</td><td>Japan</td><td>Women</td></tr><tr><td>Nigeria</td><td>Basketball</td><td>Nigeria</td><td>Men</td></tr><tr><td>Nigeria</td><td>Basketball</td><td>Nigeria</td><td>Women</td></tr><tr><td>Puerto Rico</td><td>Basketball</td><td>Puerto Rico</td><td>Women</td></tr><tr><td>Republic of Korea</td><td>Basketball</td><td>Republic of Korea</td><td>Women</td></tr><tr><td>Serbia</td><td>Basketball</td><td>Serbia</td><td>Women</td></tr><tr><td>Slovenia</td><td>Basketball</td><td>Slovenia</td><td>Men</td></tr><tr><td>Spain</td><td>Basketball</td><td>Spain</td><td>Men</td></tr><tr><td>Spain</td><td>Basketball</td><td>Spain</td><td>Women</td></tr><tr><td>United States</td><td>Basketball</td><td>United States of America</td><td>Men</td></tr><tr><td>United States</td><td>Basketball</td><td>United States of America</td><td>Women</td></tr><tr><td>Azaad/Capogrosso</td><td>Beach Volleyball</td><td>Argentina</td><td>Men</td></tr><tr><td>Gallay/Pereyra</td><td>Beach Volleyball</td><td>Argentina</td><td>Women</td></tr><tr><td>McHugh/Schumann</td><td>Beach Volleyball</td><td>Australia</td><td>Men</td></tr><tr><td>Artacho Del Solar/Clancy</td><td>Beach Volleyball</td><td>Australia</td><td>Women</td></tr><tr><td>Alison/Alvaro Filho</td><td>Beach Volleyball</td><td>Brazil</td><td>Men</td></tr><tr><td>Evandro/Bruno Schmidt</td><td>Beach Volleyball</td><td>Brazil</td><td>Men</td></tr><tr><td>Ana Patricia/Rebecca</td><td>Beach Volleyball</td><td>Brazil</td><td>Women</td></tr><tr><td>Agatha/Duda</td><td>Beach Volleyball</td><td>Brazil</td><td>Women</td></tr><tr><td>Bansley/Brandie</td><td>Beach Volleyball</td><td>Canada</td><td>Women</td></tr><tr><td>Pavan/Melissa</td><td>Beach Volleyball</td><td>Canada</td><td>Women</td></tr><tr><td>Grimalt M./Grimalt E.</td><td>Beach Volleyball</td><td>Chile</td><td>Men</td></tr><tr><td>Wang/X.Y.Xia</td><td>Beach Volleyball</td><td>People's Republic of China</td><td>Women</td></tr><tr><td>Xue/Wang X.X.</td><td>Beach Volleyball</td><td>People's Republic of China</td><td>Women</td></tr><tr><td>Lidy/Leila</td><td>Beach Volleyball</td><td>Cuba</td><td>Women</td></tr><tr><td>Perusic/Schweiner</td><td>Beach Volleyball</td><td>Czech Republic</td><td>Men</td></tr><tr><td>Hermannova/Slukova</td><td>Beach Volleyball</td><td>Czech Republic</td><td>Women</td></tr><tr><td>Thole J./Wickler</td><td>Beach Volleyball</td><td>Germany</td><td>Men</td></tr><tr><td>Ludwig/Kozuch</td><td>Beach Volleyball</td><td>Germany</td><td>Women</td></tr><tr><td>Sude/Borger</td><td>Beach Volleyball</td><td>Germany</td><td>Women</td></tr><tr><td>Nicolai/Lupo</td><td>Beach Volleyball</td><td>Italy</td><td>Men</td></tr><tr><td>Carambula/Rossi</td><td>Beach Volleyball</td><td>Italy</td><td>Men</td></tr><tr><td>Menegatti/Orsi Toth</td><td>Beach Volleyball</td><td>Italy</td><td>Women</td></tr><tr><td>Gottsu/Shiratori</td><td>Beach Volleyball</td><td>Japan</td><td>Men</td></tr><tr><td>Ishii/Murakami</td><td>Beach Volleyball</td><td>Japan</td><td>Women</td></tr><tr><td>Makokha/Khadambi</td><td>Beach Volleyball</td><td>Kenya</td><td>Women</td></tr><tr><td>Plavins/Tocs</td><td>Beach Volleyball</td><td>Latvia</td><td>Men</td></tr><tr><td>Graudina/Kravcenoka</td><td>Beach Volleyball</td><td>Latvia</td><td>Women</td></tr><tr><td>Gaxiola/Rubio</td><td>Beach Volleyball</td><td>Mexico</td><td>Men</td></tr><tr><td>Abicha/Elgraoui</td><td>Beach Volleyball</td><td>Morocco</td><td>Men</td></tr><tr><td>Brouwer/Meeuwsen</td><td>Beach Volleyball</td><td>Netherlands</td><td>Men</td></tr><tr><td>Keizer/Meppelink</td><td>Beach Volleyball</td><td>Netherlands</td><td>Women</td></tr><tr><td>Stam/Schoon</td><td>Beach Volleyball</td><td>Netherlands</td><td>Women</td></tr><tr><td>Mol A./Sorum C.</td><td>Beach Volleyball</td><td>Norway</td><td>Men</td></tr><tr><td>Bryl/Fijalek</td><td>Beach Volleyball</td><td>Poland</td><td>Men</td></tr><tr><td>Kantor/Losiak</td><td>Beach Volleyball</td><td>Poland</td><td>Men</td></tr><tr><td>Cherif/Ahmed</td><td>Beach Volleyball</td><td>Qatar</td><td>Men</td></tr><tr><td>Krasilnikov/Stoyanovskiy</td><td>Beach Volleyball</td><td>ROC</td><td>Men</td></tr><tr><td>Leshukov/Semenov</td><td>Beach Volleyball</td><td>ROC</td><td>Men</td></tr><tr><td>Makroguzova/Kholomina</td><td>Beach Volleyball</td><td>ROC</td><td>Women</td></tr><tr><td>Herrera/Gavira</td><td>Beach Volleyball</td><td>Spain</td><td>Men</td></tr><tr><td>Liliana/Elsa</td><td>Beach Volleyball</td><td>Spain</td><td>Women</td></tr><tr><td>Heidrich/Gerson</td><td>Beach Volleyball</td><td>Switzerland</td><td>Men</td></tr><tr><td>Huberli/Betschart</td><td>Beach Volleyball</td><td>Switzerland</td><td>Women</td></tr><tr><td>Verge-Depre, A./Heidrich</td><td>Beach Volleyball</td><td>Switzerland</td><td>Women</td></tr><tr><td>Gibb/Bourne</td><td>Beach Volleyball</td><td>United States of America</td><td>Men</td></tr><tr><td>Lucena/Dalhausser</td><td>Beach Volleyball</td><td>United States of America</td><td>Men</td></tr><tr><td>April/Alix</td><td>Beach Volleyball</td><td>United States of America</td><td>Women</td></tr><tr><td>Claes/Sponcil</td><td>Beach Volleyball</td><td>United States of America</td><td>Women</td></tr><tr><td>Australia</td><td>Cycling Track</td><td>Australia</td><td>Men's Madison</td></tr><tr><td>Australia</td><td>Cycling Track</td><td>Australia</td><td>Men's Team Pursuit</td></tr><tr><td>Australia</td><td>Cycling Track</td><td>Australia</td><td>Men's Team Sprint</td></tr><tr><td>Australia</td><td>Cycling Track</td><td>Australia</td><td>Women's Madison</td></tr><tr><td>Australia</td><td>Cycling Track</td><td>Australia</td><td>Women's Team Pursuit</td></tr><tr><td>Austria</td><td>Cycling Track</td><td>Austria</td><td>Men's Madison</td></tr><tr><td>Belgium</td><td>Cycling Track</td><td>Belgium</td><td>Men's Madison</td></tr><tr><td>Belgium</td><td>Cycling Track</td><td>Belgium</td><td>Women's Madison</td></tr><tr><td>Canada</td><td>Cycling Track</td><td>Canada</td><td>Men's Madison</td></tr><tr><td>Canada</td><td>Cycling Track</td><td>Canada</td><td>Men's Team Pursuit</td></tr><tr><td>Canada</td><td>Cycling Track</td><td>Canada</td><td>Women's Madison</td></tr><tr><td>Canada</td><td>Cycling Track</td><td>Canada</td><td>Women's Team Pursuit</td></tr><tr><td>China</td><td>Cycling Track</td><td>People's Republic of China</td><td>Women's Team Sprint</td></tr><tr><td>Denmark</td><td>Cycling Track</td><td>Denmark</td><td>Men's Madison</td></tr><tr><td>Denmark</td><td>Cycling Track</td><td>Denmark</td><td>Men's Team Pursuit</td></tr><tr><td>Denmark</td><td>Cycling Track</td><td>Denmark</td><td>Women's Madison</td></tr><tr><td>France</td><td>Cycling Track</td><td>France</td><td>Men's Madison</td></tr><tr><td>France</td><td>Cycling Track</td><td>France</td><td>Men's Team Sprint</td></tr><tr><td>France</td><td>Cycling Track</td><td>France</td><td>Women's Madison</td></tr><tr><td>France</td><td>Cycling Track</td><td>France</td><td>Women's Team Pursuit</td></tr><tr><td>Germany</td><td>Cycling Track</td><td>Germany</td><td>Men's Madison</td></tr><tr><td>Germany</td><td>Cycling Track</td><td>Germany</td><td>Men's Team Pursuit</td></tr><tr><td>Germany</td><td>Cycling Track</td><td>Germany</td><td>Men's Team Sprint</td></tr><tr><td>Germany</td><td>Cycling Track</td><td>Germany</td><td>Women's Madison</td></tr><tr><td>Germany</td><td>Cycling Track</td><td>Germany</td><td>Women's Team Pursuit</td></tr><tr><td>Germany</td><td>Cycling Track</td><td>Germany</td><td>Women's Team Sprint</td></tr><tr><td>Great Britain</td><td>Cycling Track</td><td>Great Britain</td><td>Men's Madison</td></tr><tr><td>Great Britain</td><td>Cycling Track</td><td>Great Britain</td><td>Men's Team Pursuit</td></tr><tr><td>Great Britain</td><td>Cycling Track</td><td>Great Britain</td><td>Men's Team Sprint</td></tr><tr><td>Great Britain</td><td>Cycling Track</td><td>Great Britain</td><td>Women's Madison</td></tr><tr><td>Great Britain</td><td>Cycling Track</td><td>Great Britain</td><td>Women's Team Pursuit</td></tr><tr><td>Hong Kong, China</td><td>Cycling Track</td><td>Hong Kong, China</td><td>Women's Madison</td></tr><tr><td>Ireland</td><td>Cycling Track</td><td>Ireland</td><td>Men's Madison</td></tr><tr><td>Ireland</td><td>Cycling Track</td><td>Ireland</td><td>Women's Madison</td></tr><tr><td>Italy</td><td>Cycling Track</td><td>Italy</td><td>Men's Madison</td></tr><tr><td>Italy</td><td>Cycling Track</td><td>Italy</td><td>Men's Team Pursuit</td></tr><tr><td>Italy</td><td>Cycling Track</td><td>Italy</td><td>Women's Madison</td></tr><tr><td>Italy</td><td>Cycling Track</td><td>Italy</td><td>Women's Team Pursuit</td></tr><tr><td>Japan</td><td>Cycling Track</td><td>Japan</td><td>Women's Madison</td></tr><tr><td>Lithuania</td><td>Cycling Track</td><td>Lithuania</td><td>Women's Team Sprint</td></tr><tr><td>Mexico</td><td>Cycling Track</td><td>Mexico</td><td>Women's Team Sprint</td></tr><tr><td>Netherlands</td><td>Cycling Track</td><td>Netherlands</td><td>Men's Madison</td></tr><tr><td>Netherlands</td><td>Cycling Track</td><td>Netherlands</td><td>Men's Team Sprint</td></tr><tr><td>Netherlands</td><td>Cycling Track</td><td>Netherlands</td><td>Women's Madison</td></tr><tr><td>Netherlands</td><td>Cycling Track</td><td>Netherlands</td><td>Women's Team Sprint</td></tr><tr><td>New Zealand</td><td>Cycling Track</td><td>New Zealand</td><td>Men's Madison</td></tr><tr><td>New Zealand</td><td>Cycling Track</td><td>New Zealand</td><td>Men's Team Pursuit</td></tr><tr><td>New Zealand</td><td>Cycling Track</td><td>New Zealand</td><td>Men's Team Sprint</td></tr><tr><td>New Zealand</td><td>Cycling Track</td><td>New Zealand</td><td>Women's Madison</td></tr><tr><td>New Zealand</td><td>Cycling Track</td><td>New Zealand</td><td>Women's Team Pursuit</td></tr><tr><td>Poland</td><td>Cycling Track</td><td>Poland</td><td>Men's Madison</td></tr><tr><td>Poland</td><td>Cycling Track</td><td>Poland</td><td>Men's Team Sprint</td></tr><tr><td>Poland</td><td>Cycling Track</td><td>Poland</td><td>Women's Madison</td></tr><tr><td>Poland</td><td>Cycling Track</td><td>Poland</td><td>Women's Team Sprint</td></tr><tr><td>ROC</td><td>Cycling Track</td><td>ROC</td><td>Men's Team Sprint</td></tr><tr><td>ROC</td><td>Cycling Track</td><td>ROC</td><td>Women's Madison</td></tr><tr><td>ROC</td><td>Cycling Track</td><td>ROC</td><td>Women's Team Sprint</td></tr><tr><td>Spain</td><td>Cycling Track</td><td>Spain</td><td>Men's Madison</td></tr><tr><td>Switzerland</td><td>Cycling Track</td><td>Switzerland</td><td>Men's Madison</td></tr><tr><td>Switzerland</td><td>Cycling Track</td><td>Switzerland</td><td>Men's Team Pursuit</td></tr><tr><td>Ukraine</td><td>Cycling Track</td><td>Ukraine</td><td>Women's Team Sprint</td></tr><tr><td>United States</td><td>Cycling Track</td><td>United States of America</td><td>Men's Madison</td></tr><tr><td>United States</td><td>Cycling Track</td><td>United States of America</td><td>Women's Madison</td></tr><tr><td>United States</td><td>Cycling Track</td><td>United States of America</td><td>Women's Team Pursuit</td></tr><tr><td>Canada</td><td>Fencing</td><td>Canada</td><td>Men's Foil Team</td></tr><tr><td>Canada</td><td>Fencing</td><td>Canada</td><td>Women's Foil Team</td></tr><tr><td>China</td><td>Fencing</td><td>People's Republic of China</td><td>Men's �p�e Team</td></tr><tr><td>China</td><td>Fencing</td><td>People's Republic of China</td><td>Women's �p�e Team</td></tr><tr><td>China</td><td>Fencing</td><td>People's Republic of China</td><td>Women's Sabre Team</td></tr><tr><td>Egypt</td><td>Fencing</td><td>Egypt</td><td>Men's Foil Team</td></tr><tr><td>Egypt</td><td>Fencing</td><td>Egypt</td><td>Men's Sabre Team</td></tr><tr><td>Egypt</td><td>Fencing</td><td>Egypt</td><td>Women's Foil Team</td></tr><tr><td>Estonia</td><td>Fencing</td><td>Estonia</td><td>Women's �p�e Team</td></tr><tr><td>France</td><td>Fencing</td><td>France</td><td>Men's �p�e Team</td></tr><tr><td>France</td><td>Fencing</td><td>France</td><td>Men's Foil Team</td></tr><tr><td>France</td><td>Fencing</td><td>France</td><td>Women's Foil Team</td></tr><tr><td>France</td><td>Fencing</td><td>France</td><td>Women's Sabre Team</td></tr><tr><td>Germany</td><td>Fencing</td><td>Germany</td><td>Men's Foil Team</td></tr><tr><td>Germany</td><td>Fencing</td><td>Germany</td><td>Men's Sabre Team</td></tr><tr><td>Hong Kong, China</td><td>Fencing</td><td>Hong Kong, China</td><td>Men's Foil Team</td></tr><tr><td>Hong Kong, China</td><td>Fencing</td><td>Hong Kong, China</td><td>Women's �p�e Team</td></tr><tr><td>Hungary</td><td>Fencing</td><td>Hungary</td><td>Men's Sabre Team</td></tr><tr><td>Hungary</td><td>Fencing</td><td>Hungary</td><td>Women's Foil Team</td></tr><tr><td>Hungary</td><td>Fencing</td><td>Hungary</td><td>Women's Sabre Team</td></tr><tr><td>Islamic Rep. of Iran</td><td>Fencing</td><td>Islamic Republic of Iran</td><td>Men's Sabre Team</td></tr><tr><td>Italy</td><td>Fencing</td><td>Italy</td><td>Men's �p�e Team</td></tr><tr><td>Italy</td><td>Fencing</td><td>Italy</td><td>Men's Foil Team</td></tr><tr><td>Italy</td><td>Fencing</td><td>Italy</td><td>Men's Sabre Team</td></tr><tr><td>Italy</td><td>Fencing</td><td>Italy</td><td>Women's �p�e Team</td></tr><tr><td>Italy</td><td>Fencing</td><td>Italy</td><td>Women's Foil Team</td></tr><tr><td>Italy</td><td>Fencing</td><td>Italy</td><td>Women's Sabre Team</td></tr><tr><td>Japan</td><td>Fencing</td><td>Japan</td><td>Men's �p�e Team</td></tr><tr><td>Japan</td><td>Fencing</td><td>Japan</td><td>Men's Foil Team</td></tr><tr><td>Japan</td><td>Fencing</td><td>Japan</td><td>Men's Sabre Team</td></tr><tr><td>Japan</td><td>Fencing</td><td>Japan</td><td>Women's Foil Team</td></tr><tr><td>Japan</td><td>Fencing</td><td>Japan</td><td>Women's Sabre Team</td></tr><tr><td>Poland</td><td>Fencing</td><td>Poland</td><td>Women's �p�e Team</td></tr><tr><td>Republic of Korea</td><td>Fencing</td><td>Republic of Korea</td><td>Men's �p�e Team</td></tr><tr><td>Republic of Korea</td><td>Fencing</td><td>Republic of Korea</td><td>Men's Sabre Team</td></tr><tr><td>Republic of Korea</td><td>Fencing</td><td>Republic of Korea</td><td>Women's �p�e Team</td></tr><tr><td>Republic of Korea</td><td>Fencing</td><td>Republic of Korea</td><td>Women's Sabre Team</td></tr><tr><td>ROC</td><td>Fencing</td><td>ROC</td><td>Men's �p�e Team</td></tr><tr><td>ROC</td><td>Fencing</td><td>ROC</td><td>Men's Foil Team</td></tr><tr><td>ROC</td><td>Fencing</td><td>ROC</td><td>Men's Sabre Team</td></tr><tr><td>ROC</td><td>Fencing</td><td>ROC</td><td>Women's �p�e Team</td></tr><tr><td>ROC</td><td>Fencing</td><td>ROC</td><td>Women's Foil Team</td></tr><tr><td>ROC</td><td>Fencing</td><td>ROC</td><td>Women's Sabre Team</td></tr><tr><td>Switzerland</td><td>Fencing</td><td>Switzerland</td><td>Men's �p�e Team</td></tr><tr><td>Tunisia</td><td>Fencing</td><td>Tunisia</td><td>Women's Sabre Team</td></tr><tr><td>Ukraine</td><td>Fencing</td><td>Ukraine</td><td>Men's �p�e Team</td></tr><tr><td>United States</td><td>Fencing</td><td>United States of America</td><td>Men's �p�e Team</td></tr><tr><td>United States</td><td>Fencing</td><td>United States of America</td><td>Men's Foil Team</td></tr><tr><td>United States</td><td>Fencing</td><td>United States of America</td><td>Men's Sabre Team</td></tr><tr><td>United States</td><td>Fencing</td><td>United States of America</td><td>Women's �p�e Team</td></tr><tr><td>United States</td><td>Fencing</td><td>United States of America</td><td>Women's Foil Team</td></tr><tr><td>United States</td><td>Fencing</td><td>United States of America</td><td>Women's Sabre Team</td></tr><tr><td>Argentina</td><td>Football</td><td>Argentina</td><td>Men</td></tr><tr><td>Australia</td><td>Football</td><td>Australia</td><td>Men</td></tr><tr><td>Australia</td><td>Football</td><td>Australia</td><td>Women</td></tr><tr><td>Brazil</td><td>Football</td><td>Brazil</td><td>Men</td></tr><tr><td>Brazil</td><td>Football</td><td>Brazil</td><td>Women</td></tr><tr><td>Canada</td><td>Football</td><td>Canada</td><td>Women</td></tr><tr><td>Chile</td><td>Football</td><td>Chile</td><td>Women</td></tr><tr><td>China</td><td>Football</td><td>People's Republic of China</td><td>Women</td></tr><tr><td>C�te d�Ivoire</td><td>Football</td><td>C�te d'Ivoire</td><td>Men</td></tr><tr><td>Egypt</td><td>Football</td><td>Egypt</td><td>Men</td></tr><tr><td>France</td><td>Football</td><td>France</td><td>Men</td></tr><tr><td>Germany</td><td>Football</td><td>Germany</td><td>Men</td></tr><tr><td>Great Britain</td><td>Football</td><td>Great Britain</td><td>Women</td></tr><tr><td>Honduras</td><td>Football</td><td>Honduras</td><td>Men</td></tr><tr><td>Japan</td><td>Football</td><td>Japan</td><td>Men</td></tr><tr><td>Japan</td><td>Football</td><td>Japan</td><td>Women</td></tr><tr><td>Mexico</td><td>Football</td><td>Mexico</td><td>Men</td></tr><tr><td>Netherlands</td><td>Football</td><td>Netherlands</td><td>Women</td></tr><tr><td>New Zealand</td><td>Football</td><td>New Zealand</td><td>Men</td></tr><tr><td>New Zealand</td><td>Football</td><td>New Zealand</td><td>Women</td></tr><tr><td>Republic of Korea</td><td>Football</td><td>Republic of Korea</td><td>Men</td></tr><tr><td>Romania</td><td>Football</td><td>Romania</td><td>Men</td></tr><tr><td>Saudi Arabia</td><td>Football</td><td>Saudi Arabia</td><td>Men</td></tr><tr><td>South Africa</td><td>Football</td><td>South Africa</td><td>Men</td></tr><tr><td>Spain</td><td>Football</td><td>Spain</td><td>Men</td></tr><tr><td>Sweden</td><td>Football</td><td>Sweden</td><td>Women</td></tr><tr><td>United States</td><td>Football</td><td>United States of America</td><td>Women</td></tr><tr><td>Zambia</td><td>Football</td><td>Zambia</td><td>Women</td></tr><tr><td>Angola</td><td>Handball</td><td>Angola</td><td>Women</td></tr><tr><td>Argentina</td><td>Handball</td><td>Argentina</td><td>Men</td></tr><tr><td>Bahrain</td><td>Handball</td><td>Bahrain</td><td>Men</td></tr><tr><td>Brazil</td><td>Handball</td><td>Brazil</td><td>Men</td></tr><tr><td>Brazil</td><td>Handball</td><td>Brazil</td><td>Women</td></tr><tr><td>Denmark</td><td>Handball</td><td>Denmark</td><td>Men</td></tr><tr><td>Egypt</td><td>Handball</td><td>Egypt</td><td>Men</td></tr><tr><td>France</td><td>Handball</td><td>France</td><td>Men</td></tr><tr><td>France</td><td>Handball</td><td>France</td><td>Women</td></tr><tr><td>Germany</td><td>Handball</td><td>Germany</td><td>Men</td></tr><tr><td>Hungary</td><td>Handball</td><td>Hungary</td><td>Women</td></tr><tr><td>Japan</td><td>Handball</td><td>Japan</td><td>Men</td></tr><tr><td>Japan</td><td>Handball</td><td>Japan</td><td>Women</td></tr><tr><td>Montenegro</td><td>Handball</td><td>Montenegro</td><td>Women</td></tr><tr><td>Netherlands</td><td>Handball</td><td>Netherlands</td><td>Women</td></tr><tr><td>Norway</td><td>Handball</td><td>Norway</td><td>Men</td></tr><tr><td>Norway</td><td>Handball</td><td>Norway</td><td>Women</td></tr><tr><td>Portugal</td><td>Handball</td><td>Portugal</td><td>Men</td></tr><tr><td>Republic of Korea</td><td>Handball</td><td>Republic of Korea</td><td>Women</td></tr><tr><td>ROC</td><td>Handball</td><td>ROC</td><td>Women</td></tr><tr><td>Spain</td><td>Handball</td><td>Spain</td><td>Men</td></tr><tr><td>Spain</td><td>Handball</td><td>Spain</td><td>Women</td></tr><tr><td>Sweden</td><td>Handball</td><td>Sweden</td><td>Men</td></tr><tr><td>Sweden</td><td>Handball</td><td>Sweden</td><td>Women</td></tr><tr><td>Argentina</td><td>Hockey</td><td>Argentina</td><td>Men</td></tr><tr><td>Argentina</td><td>Hockey</td><td>Argentina</td><td>Women</td></tr><tr><td>Australia</td><td>Hockey</td><td>Australia</td><td>Men</td></tr><tr><td>Australia</td><td>Hockey</td><td>Australia</td><td>Women</td></tr><tr><td>Belgium</td><td>Hockey</td><td>Belgium</td><td>Men</td></tr><tr><td>Canada</td><td>Hockey</td><td>Canada</td><td>Men</td></tr><tr><td>China</td><td>Hockey</td><td>People's Republic of China</td><td>Women</td></tr><tr><td>Germany</td><td>Hockey</td><td>Germany</td><td>Men</td></tr><tr><td>Germany</td><td>Hockey</td><td>Germany</td><td>Women</td></tr><tr><td>Great Britain</td><td>Hockey</td><td>Great Britain</td><td>Men</td></tr><tr><td>Great Britain</td><td>Hockey</td><td>Great Britain</td><td>Women</td></tr><tr><td>India</td><td>Hockey</td><td>India</td><td>Men</td></tr><tr><td>India</td><td>Hockey</td><td>India</td><td>Women</td></tr><tr><td>Ireland</td><td>Hockey</td><td>Ireland</td><td>Women</td></tr><tr><td>Japan</td><td>Hockey</td><td>Japan</td><td>Men</td></tr><tr><td>Japan</td><td>Hockey</td><td>Japan</td><td>Women</td></tr><tr><td>Netherlands</td><td>Hockey</td><td>Netherlands</td><td>Men</td></tr><tr><td>Netherlands</td><td>Hockey</td><td>Netherlands</td><td>Women</td></tr><tr><td>New Zealand</td><td>Hockey</td><td>New Zealand</td><td>Men</td></tr><tr><td>New Zealand</td><td>Hockey</td><td>New Zealand</td><td>Women</td></tr><tr><td>South Africa</td><td>Hockey</td><td>South Africa</td><td>Men</td></tr><tr><td>South Africa</td><td>Hockey</td><td>South Africa</td><td>Women</td></tr><tr><td>Spain</td><td>Hockey</td><td>Spain</td><td>Men</td></tr><tr><td>Spain</td><td>Hockey</td><td>Spain</td><td>Women</td></tr><tr><td>Australia</td><td>Rhythmic Gymnastics</td><td>Australia</td><td>Group All-Around</td></tr><tr><td>Azerbaijan</td><td>Rhythmic Gymnastics</td><td>Azerbaijan</td><td>Group All-Around</td></tr><tr><td>Belarus</td><td>Rhythmic Gymnastics</td><td>Belarus</td><td>Group All-Around</td></tr><tr><td>Brazil</td><td>Rhythmic Gymnastics</td><td>Brazil</td><td>Group All-Around</td></tr><tr><td>Bulgaria</td><td>Rhythmic Gymnastics</td><td>Bulgaria</td><td>Group All-Around</td></tr><tr><td>China</td><td>Rhythmic Gymnastics</td><td>People's Republic of China</td><td>Group All-Around</td></tr><tr><td>Egypt</td><td>Rhythmic Gymnastics</td><td>Egypt</td><td>Group All-Around</td></tr><tr><td>Israel</td><td>Rhythmic Gymnastics</td><td>Israel</td><td>Group All-Around</td></tr><tr><td>Italy</td><td>Rhythmic Gymnastics</td><td>Italy</td><td>Group All-Around</td></tr><tr><td>Japan</td><td>Rhythmic Gymnastics</td><td>Japan</td><td>Group All-Around</td></tr><tr><td>ROC</td><td>Rhythmic Gymnastics</td><td>ROC</td><td>Group All-Around</td></tr><tr><td>Ukraine</td><td>Rhythmic Gymnastics</td><td>Ukraine</td><td>Group All-Around</td></tr><tr><td>United States</td><td>Rhythmic Gymnastics</td><td>United States of America</td><td>Group All-Around</td></tr><tr><td>Uzbekistan</td><td>Rhythmic Gymnastics</td><td>Uzbekistan</td><td>Group All-Around</td></tr><tr><td>Argentina</td><td>Rugby Sevens</td><td>Argentina</td><td>Men</td></tr><tr><td>Australia</td><td>Rugby Sevens</td><td>Australia</td><td>Men</td></tr><tr><td>Australia</td><td>Rugby Sevens</td><td>Australia</td><td>Women</td></tr><tr><td>Brazil</td><td>Rugby Sevens</td><td>Brazil</td><td>Women</td></tr><tr><td>Canada</td><td>Rugby Sevens</td><td>Canada</td><td>Men</td></tr><tr><td>Canada</td><td>Rugby Sevens</td><td>Canada</td><td>Women</td></tr><tr><td>China</td><td>Rugby Sevens</td><td>People's Republic of China</td><td>Women</td></tr><tr><td>Fiji</td><td>Rugby Sevens</td><td>Fiji</td><td>Men</td></tr><tr><td>Fiji</td><td>Rugby Sevens</td><td>Fiji</td><td>Women</td></tr><tr><td>France</td><td>Rugby Sevens</td><td>France</td><td>Women</td></tr><tr><td>Great Britain</td><td>Rugby Sevens</td><td>Great Britain</td><td>Men</td></tr><tr><td>Great Britain</td><td>Rugby Sevens</td><td>Great Britain</td><td>Women</td></tr><tr><td>Ireland</td><td>Rugby Sevens</td><td>Ireland</td><td>Men</td></tr><tr><td>Japan</td><td>Rugby Sevens</td><td>Japan</td><td>Men</td></tr><tr><td>Japan</td><td>Rugby Sevens</td><td>Japan</td><td>Women</td></tr><tr><td>Kenya</td><td>Rugby Sevens</td><td>Kenya</td><td>Men</td></tr><tr><td>Kenya</td><td>Rugby Sevens</td><td>Kenya</td><td>Women</td></tr><tr><td>New Zealand</td><td>Rugby Sevens</td><td>New Zealand</td><td>Men</td></tr><tr><td>New Zealand</td><td>Rugby Sevens</td><td>New Zealand</td><td>Women</td></tr><tr><td>Republic of Korea</td><td>Rugby Sevens</td><td>Republic of Korea</td><td>Men</td></tr><tr><td>ROC</td><td>Rugby Sevens</td><td>ROC</td><td>Women</td></tr><tr><td>South Africa</td><td>Rugby Sevens</td><td>South Africa</td><td>Men</td></tr><tr><td>United States</td><td>Rugby Sevens</td><td>United States of America</td><td>Men</td></tr><tr><td>United States</td><td>Rugby Sevens</td><td>United States of America</td><td>Women</td></tr><tr><td>Australia</td><td>Swimming</td><td>Australia</td><td>Men's 4 x 100m Freestyle Relay</td></tr><tr><td>Australia</td><td>Swimming</td><td>Australia</td><td>Men's 4 x 100m Medley Relay</td></tr><tr><td>Australia</td><td>Swimming</td><td>Australia</td><td>Men's 4 x 200m Freestyle Relay</td></tr><tr><td>Australia</td><td>Swimming</td><td>Australia</td><td>Mixed 4 x 100m Medley Relay</td></tr><tr><td>Australia</td><td>Swimming</td><td>Australia</td><td>Women's 4 x 100m Freestyle Relay</td></tr><tr><td>Australia</td><td>Swimming</td><td>Australia</td><td>Women's 4 x 100m Medley Relay</td></tr><tr><td>Australia</td><td>Swimming</td><td>Australia</td><td>Women's 4 x 200m Freestyle Relay</td></tr><tr><td>Belarus</td><td>Swimming</td><td>Belarus</td><td>Men's 4 x 100m Medley Relay</td></tr><tr><td>Belarus</td><td>Swimming</td><td>Belarus</td><td>Mixed 4 x 100m Medley Relay</td></tr><tr><td>Belarus</td><td>Swimming</td><td>Belarus</td><td>Women's 4 x 100m Medley Relay</td></tr><tr><td>Brazil</td><td>Swimming</td><td>Brazil</td><td>Men's 4 x 100m Freestyle Relay</td></tr><tr><td>Brazil</td><td>Swimming</td><td>Brazil</td><td>Men's 4 x 100m Medley Relay</td></tr><tr><td>Brazil</td><td>Swimming</td><td>Brazil</td><td>Men's 4 x 200m Freestyle Relay</td></tr><tr><td>Brazil</td><td>Swimming</td><td>Brazil</td><td>Mixed 4 x 100m Medley Relay</td></tr><tr><td>Brazil</td><td>Swimming</td><td>Brazil</td><td>Women's 4 x 100m Freestyle Relay</td></tr><tr><td>Brazil</td><td>Swimming</td><td>Brazil</td><td>Women's 4 x 200m Freestyle Relay</td></tr><tr><td>Canada</td><td>Swimming</td><td>Canada</td><td>Men's 4 x 100m Freestyle Relay</td></tr><tr><td>Canada</td><td>Swimming</td><td>Canada</td><td>Men's 4 x 100m Medley Relay</td></tr><tr><td>Canada</td><td>Swimming</td><td>Canada</td><td>Mixed 4 x 100m Medley Relay</td></tr><tr><td>Canada</td><td>Swimming</td><td>Canada</td><td>Women's 4 x 100m Freestyle Relay</td></tr><tr><td>Canada</td><td>Swimming</td><td>Canada</td><td>Women's 4 x 100m Medley Relay</td></tr><tr><td>Canada</td><td>Swimming</td><td>Canada</td><td>Women's 4 x 200m Freestyle Relay</td></tr><tr><td>China</td><td>Swimming</td><td>People's Republic of China</td><td>Men's 4 x 100m Medley Relay</td></tr><tr><td>China</td><td>Swimming</td><td>People's Republic of China</td><td>Men's 4 x 200m Freestyle Relay</td></tr><tr><td>China</td><td>Swimming</td><td>People's Republic of China</td><td>Mixed 4 x 100m Medley Relay</td></tr><tr><td>China</td><td>Swimming</td><td>People's Republic of China</td><td>Women's 4 x 100m Freestyle Relay</td></tr><tr><td>China</td><td>Swimming</td><td>People's Republic of China</td><td>Women's 4 x 100m Medley Relay</td></tr><tr><td>China</td><td>Swimming</td><td>People's Republic of China</td><td>Women's 4 x 200m Freestyle Relay</td></tr><tr><td>Czech Republic</td><td>Swimming</td><td>Czech Republic</td><td>Women's 4 x 100m Freestyle Relay</td></tr><tr><td>Denmark</td><td>Swimming</td><td>Denmark</td><td>Women's 4 x 100m Freestyle Relay</td></tr><tr><td>Denmark</td><td>Swimming</td><td>Denmark</td><td>Women's 4 x 100m Medley Relay</td></tr><tr><td>France</td><td>Swimming</td><td>France</td><td>Men's 4 x 100m Freestyle Relay</td></tr><tr><td>France</td><td>Swimming</td><td>France</td><td>Men's 4 x 100m Medley Relay</td></tr><tr><td>France</td><td>Swimming</td><td>France</td><td>Men's 4 x 200m Freestyle Relay</td></tr><tr><td>France</td><td>Swimming</td><td>France</td><td>Women's 4 x 100m Freestyle Relay</td></tr><tr><td>France</td><td>Swimming</td><td>France</td><td>Women's 4 x 200m Freestyle Relay</td></tr><tr><td>Germany</td><td>Swimming</td><td>Germany</td><td>Men's 4 x 100m Freestyle Relay</td></tr><tr><td>Germany</td><td>Swimming</td><td>Germany</td><td>Men's 4 x 100m Medley Relay</td></tr><tr><td>Germany</td><td>Swimming</td><td>Germany</td><td>Men's 4 x 200m Freestyle Relay</td></tr><tr><td>Germany</td><td>Swimming</td><td>Germany</td><td>Mixed 4 x 100m Medley Relay</td></tr><tr><td>Germany</td><td>Swimming</td><td>Germany</td><td>Women's 4 x 100m Freestyle Relay</td></tr><tr><td>Germany</td><td>Swimming</td><td>Germany</td><td>Women's 4 x 100m Medley Relay</td></tr><tr><td>Germany</td><td>Swimming</td><td>Germany</td><td>Women's 4 x 200m Freestyle Relay</td></tr><tr><td>Great Britain</td><td>Swimming</td><td>Great Britain</td><td>Men's 4 x 100m Freestyle Relay</td></tr><tr><td>Great Britain</td><td>Swimming</td><td>Great Britain</td><td>Men's 4 x 100m Medley Relay</td></tr><tr><td>Great Britain</td><td>Swimming</td><td>Great Britain</td><td>Men's 4 x 200m Freestyle Relay</td></tr><tr><td>Great Britain</td><td>Swimming</td><td>Great Britain</td><td>Mixed 4 x 100m Medley Relay</td></tr><tr><td>Great Britain</td><td>Swimming</td><td>Great Britain</td><td>Women's 4 x 100m Freestyle Relay</td></tr><tr><td>Great Britain</td><td>Swimming</td><td>Great Britain</td><td>Women's 4 x 100m Medley Relay</td></tr><tr><td>Greece</td><td>Swimming</td><td>Greece</td><td>Men's 4 x 100m Freestyle Relay</td></tr><tr><td>Greece</td><td>Swimming</td><td>Greece</td><td>Men's 4 x 100m Medley Relay</td></tr><tr><td>Greece</td><td>Swimming</td><td>Greece</td><td>Mixed 4 x 100m Medley Relay</td></tr><tr><td>Hong Kong, China</td><td>Swimming</td><td>Hong Kong, China</td><td>Women's 4 x 100m Freestyle Relay</td></tr><tr><td>Hong Kong, China</td><td>Swimming</td><td>Hong Kong, China</td><td>Women's 4 x 100m Medley Relay</td></tr><tr><td>Hong Kong, China</td><td>Swimming</td><td>Hong Kong, China</td><td>Women's 4 x 200m Freestyle Relay</td></tr><tr><td>Hungary</td><td>Swimming</td><td>Hungary</td><td>Men's 4 x 100m Freestyle Relay</td></tr><tr><td>Hungary</td><td>Swimming</td><td>Hungary</td><td>Men's 4 x 100m Medley Relay</td></tr><tr><td>Hungary</td><td>Swimming</td><td>Hungary</td><td>Men's 4 x 200m Freestyle Relay</td></tr><tr><td>Hungary</td><td>Swimming</td><td>Hungary</td><td>Mixed 4 x 100m Medley Relay</td></tr><tr><td>Hungary</td><td>Swimming</td><td>Hungary</td><td>Women's 4 x 200m Freestyle Relay</td></tr><tr><td>Ireland</td><td>Swimming</td><td>Ireland</td><td>Men's 4 x 200m Freestyle Relay</td></tr><tr><td>Israel</td><td>Swimming</td><td>Israel</td><td>Men's 4 x 200m Freestyle Relay</td></tr><tr><td>Israel</td><td>Swimming</td><td>Israel</td><td>Mixed 4 x 100m Medley Relay</td></tr><tr><td>Italy</td><td>Swimming</td><td>Italy</td><td>Men's 4 x 100m Freestyle Relay</td></tr><tr><td>Italy</td><td>Swimming</td><td>Italy</td><td>Men's 4 x 100m Medley Relay</td></tr><tr><td>Italy</td><td>Swimming</td><td>Italy</td><td>Men's 4 x 200m Freestyle Relay</td></tr><tr><td>Italy</td><td>Swimming</td><td>Italy</td><td>Mixed 4 x 100m Medley Relay</td></tr><tr><td>Italy</td><td>Swimming</td><td>Italy</td><td>Women's 4 x 100m Medley Relay</td></tr><tr><td>Italy</td><td>Swimming</td><td>Italy</td><td>Women's 4 x 200m Freestyle Relay</td></tr><tr><td>Japan</td><td>Swimming</td><td>Japan</td><td>Men's 4 x 100m Freestyle Relay</td></tr><tr><td>Japan</td><td>Swimming</td><td>Japan</td><td>Men's 4 x 100m Medley Relay</td></tr><tr><td>Japan</td><td>Swimming</td><td>Japan</td><td>Men's 4 x 200m Freestyle Relay</td></tr><tr><td>Japan</td><td>Swimming</td><td>Japan</td><td>Mixed 4 x 100m Medley Relay</td></tr><tr><td>Japan</td><td>Swimming</td><td>Japan</td><td>Women's 4 x 100m Freestyle Relay</td></tr><tr><td>Japan</td><td>Swimming</td><td>Japan</td><td>Women's 4 x 100m Medley Relay</td></tr><tr><td>Japan</td><td>Swimming</td><td>Japan</td><td>Women's 4 x 200m Freestyle Relay</td></tr><tr><td>Lithuania</td><td>Swimming</td><td>Lithuania</td><td>Men's 4 x 100m Medley Relay</td></tr><tr><td>Netherlands</td><td>Swimming</td><td>Netherlands</td><td>Men's 4 x 100m Freestyle Relay</td></tr><tr><td>Netherlands</td><td>Swimming</td><td>Netherlands</td><td>Mixed 4 x 100m Medley Relay</td></tr><tr><td>Netherlands</td><td>Swimming</td><td>Netherlands</td><td>Women's 4 x 100m Freestyle Relay</td></tr><tr><td>Netherlands</td><td>Swimming</td><td>Netherlands</td><td>Women's 4 x 100m Medley Relay</td></tr><tr><td>New Zealand</td><td>Swimming</td><td>New Zealand</td><td>Women's 4 x 200m Freestyle Relay</td></tr><tr><td>Poland</td><td>Swimming</td><td>Poland</td><td>Men's 4 x 100m Freestyle Relay</td></tr><tr><td>Poland</td><td>Swimming</td><td>Poland</td><td>Men's 4 x 100m Medley Relay</td></tr><tr><td>Poland</td><td>Swimming</td><td>Poland</td><td>Men's 4 x 200m Freestyle Relay</td></tr><tr><td>Poland</td><td>Swimming</td><td>Poland</td><td>Mixed 4 x 100m Medley Relay</td></tr><tr><td>Poland</td><td>Swimming</td><td>Poland</td><td>Women's 4 x 100m Freestyle Relay</td></tr><tr><td>Poland</td><td>Swimming</td><td>Poland</td><td>Women's 4 x 200m Freestyle Relay</td></tr><tr><td>Republic of Korea</td><td>Swimming</td><td>Republic of Korea</td><td>Men's 4 x 200m Freestyle Relay</td></tr><tr><td>Republic of Korea</td><td>Swimming</td><td>Republic of Korea</td><td>Women's 4 x 200m Freestyle Relay</td></tr><tr><td>ROC</td><td>Swimming</td><td>ROC</td><td>Men's 4 x 100m Freestyle Relay</td></tr><tr><td>ROC</td><td>Swimming</td><td>ROC</td><td>Men's 4 x 100m Medley Relay</td></tr><tr><td>ROC</td><td>Swimming</td><td>ROC</td><td>Men's 4 x 200m Freestyle Relay</td></tr><tr><td>ROC</td><td>Swimming</td><td>ROC</td><td>Mixed 4 x 100m Medley Relay</td></tr><tr><td>ROC</td><td>Swimming</td><td>ROC</td><td>Women's 4 x 100m Freestyle Relay</td></tr><tr><td>ROC</td><td>Swimming</td><td>ROC</td><td>Women's 4 x 100m Medley Relay</td></tr><tr><td>ROC</td><td>Swimming</td><td>ROC</td><td>Women's 4 x 200m Freestyle Relay</td></tr><tr><td>Serbia</td><td>Swimming</td><td>Serbia</td><td>Men's 4 x 100m Freestyle Relay</td></tr><tr><td>South Africa</td><td>Swimming</td><td>South Africa</td><td>Women's 4 x 100m Medley Relay</td></tr><tr><td>South Africa</td><td>Swimming</td><td>South Africa</td><td>Women's 4 x 200m Freestyle Relay</td></tr><tr><td>Spain</td><td>Swimming</td><td>Spain</td><td>Women's 4 x 100m Medley Relay</td></tr><tr><td>Sweden</td><td>Swimming</td><td>Sweden</td><td>Women's 4 x 100m Freestyle Relay</td></tr><tr><td>Sweden</td><td>Swimming</td><td>Sweden</td><td>Women's 4 x 100m Medley Relay</td></tr><tr><td>Switzerland</td><td>Swimming</td><td>Switzerland</td><td>Men's 4 x 100m Freestyle Relay</td></tr><tr><td>Switzerland</td><td>Swimming</td><td>Switzerland</td><td>Men's 4 x 200m Freestyle Relay</td></tr><tr><td>Turkey</td><td>Swimming</td><td>Turkey</td><td>Women's 4 x 200m Freestyle Relay</td></tr><tr><td>United States</td><td>Swimming</td><td>United States of America</td><td>Men's 4 x 100m Freestyle Relay</td></tr><tr><td>United States</td><td>Swimming</td><td>United States of America</td><td>Men's 4 x 100m Medley Relay</td></tr><tr><td>United States</td><td>Swimming</td><td>United States of America</td><td>Men's 4 x 200m Freestyle Relay</td></tr><tr><td>United States</td><td>Swimming</td><td>United States of America</td><td>Mixed 4 x 100m Medley Relay</td></tr><tr><td>United States</td><td>Swimming</td><td>United States of America</td><td>Women's 4 x 100m Freestyle Relay</td></tr><tr><td>United States</td><td>Swimming</td><td>United States of America</td><td>Women's 4 x 100m Medley Relay</td></tr><tr><td>United States</td><td>Swimming</td><td>United States of America</td><td>Women's 4 x 200m Freestyle Relay</td></tr><tr><td>Australia</td><td>Table Tennis</td><td>Australia</td><td>Men's Team</td></tr><tr><td>HU Heming / TAPPER Melissa</td><td>Table Tennis</td><td>Australia</td><td>Mixed Doubles</td></tr><tr><td>Australia</td><td>Table Tennis</td><td>Australia</td><td>Women's Team</td></tr><tr><td>FEGERL Stefan / POLCANOVA Sofia</td><td>Table Tennis</td><td>Austria</td><td>Mixed Doubles</td></tr><tr><td>Austria</td><td>Table Tennis</td><td>Austria</td><td>Women's Team</td></tr><tr><td>Brazil</td><td>Table Tennis</td><td>Brazil</td><td>Men's Team</td></tr><tr><td>Brazil</td><td>Table Tennis</td><td>Brazil</td><td>Women's Team</td></tr><tr><td>WANG Zhen / ZHANG Mo</td><td>Table Tennis</td><td>Canada</td><td>Mixed Doubles</td></tr><tr><td>China</td><td>Table Tennis</td><td>People's Republic of China</td><td>Men's Team</td></tr><tr><td>XU Xin / LIU Shiwen</td><td>Table Tennis</td><td>People's Republic of China</td><td>Mixed Doubles</td></tr><tr><td>China</td><td>Table Tennis</td><td>People's Republic of China</td><td>Women's Team</td></tr><tr><td>Chinese Taipei</td><td>Table Tennis</td><td>Chinese Taipei</td><td>Men's Team</td></tr><tr><td>LIN Yun Ju / CHENG I Ching</td><td>Table Tennis</td><td>Chinese Taipei</td><td>Mixed Doubles</td></tr><tr><td>Chinese Taipei</td><td>Table Tennis</td><td>Chinese Taipei</td><td>Women's Team</td></tr><tr><td>Croatia</td><td>Table Tennis</td><td>Croatia</td><td>Men's Team</td></tr><tr><td>CAMPOS Jorge / FONSECA Daniela</td><td>Table Tennis</td><td>Cuba</td><td>Mixed Doubles</td></tr><tr><td>Egypt</td><td>Table Tennis</td><td>Egypt</td><td>Men's Team</td></tr><tr><td>ASSAR Omar / MESHREF Dina</td><td>Table Tennis</td><td>Egypt</td><td>Mixed Doubles</td></tr><tr><td>Egypt</td><td>Table Tennis</td><td>Egypt</td><td>Women's Team</td></tr><tr><td>France</td><td>Table Tennis</td><td>France</td><td>Men's Team</td></tr><tr><td>LEBESSON Emmanuel / YUAN Jia Nan</td><td>Table Tennis</td><td>France</td><td>Mixed Doubles</td></tr><tr><td>France</td><td>Table Tennis</td><td>France</td><td>Women's Team</td></tr><tr><td>Germany</td><td>Table Tennis</td><td>Germany</td><td>Men's Team</td></tr><tr><td>FRANZISKA Patrick / SOLJA Petrissa</td><td>Table Tennis</td><td>Germany</td><td>Mixed Doubles</td></tr><tr><td>Germany</td><td>Table Tennis</td><td>Germany</td><td>Women's Team</td></tr><tr><td>Hong Kong, China</td><td>Table Tennis</td><td>Hong Kong, China</td><td>Men's Team</td></tr><tr><td>WONG Chun Ting / DOO Hoi Kem</td><td>Table Tennis</td><td>Hong Kong, China</td><td>Mixed Doubles</td></tr><tr><td>Hong Kong, China</td><td>Table Tennis</td><td>Hong Kong, China</td><td>Women's Team</td></tr><tr><td>SZUDI Adam / PERGEL Szandra</td><td>Table Tennis</td><td>Hungary</td><td>Mixed Doubles</td></tr><tr><td>Hungary</td><td>Table Tennis</td><td>Hungary</td><td>Women's Team</td></tr><tr><td>ACHANTA Kamal / BATRA Manika</td><td>Table Tennis</td><td>India</td><td>Mixed Doubles</td></tr><tr><td>Japan</td><td>Table Tennis</td><td>Japan</td><td>Men's Team</td></tr><tr><td>MIZUTANI Jun / ITO Mima</td><td>Table Tennis</td><td>Japan</td><td>Mixed Doubles</td></tr><tr><td>Japan</td><td>Table Tennis</td><td>Japan</td><td>Women's Team</td></tr><tr><td>Poland</td><td>Table Tennis</td><td>Poland</td><td>Women's Team</td></tr><tr><td>Portugal</td><td>Table Tennis</td><td>Portugal</td><td>Men's Team</td></tr><tr><td>Republic of Korea</td><td>Table Tennis</td><td>Republic of Korea</td><td>Men's Team</td></tr><tr><td>LEE Sangsu / JEON Jihee</td><td>Table Tennis</td><td>Republic of Korea</td><td>Mixed Doubles</td></tr><tr><td>Republic of Korea</td><td>Table Tennis</td><td>Republic of Korea</td><td>Women's Team</td></tr><tr><td>IONESCU Ovidiu / SZOCS Bernadette</td><td>Table Tennis</td><td>Romania</td><td>Mixed Doubles</td></tr><tr><td>Romania</td><td>Table Tennis</td><td>Romania</td><td>Women's Team</td></tr><tr><td>Serbia</td><td>Table Tennis</td><td>Serbia</td><td>Men's Team</td></tr><tr><td>Singapore</td><td>Table Tennis</td><td>Singapore</td><td>Women's Team</td></tr><tr><td>PISTEJ Lubomir / BALAZOVA Barbora</td><td>Table Tennis</td><td>Slovakia</td><td>Mixed Doubles</td></tr><tr><td>Slovenia</td><td>Table Tennis</td><td>Slovenia</td><td>Men's Team</td></tr><tr><td>Sweden</td><td>Table Tennis</td><td>Sweden</td><td>Men's Team</td></tr><tr><td>United States</td><td>Table Tennis</td><td>United States of America</td><td>Men's Team</td></tr><tr><td>United States</td><td>Table Tennis</td><td>United States of America</td><td>Women's Team</td></tr><tr><td>Australia</td><td>Triathlon</td><td>Australia</td><td>Mixed Relay</td></tr><tr><td>Austria</td><td>Triathlon</td><td>Austria</td><td>Mixed Relay</td></tr><tr><td>Belgium</td><td>Triathlon</td><td>Belgium</td><td>Mixed Relay</td></tr><tr><td>Canada</td><td>Triathlon</td><td>Canada</td><td>Mixed Relay</td></tr><tr><td>France</td><td>Triathlon</td><td>France</td><td>Mixed Relay</td></tr><tr><td>Germany</td><td>Triathlon</td><td>Germany</td><td>Mixed Relay</td></tr><tr><td>Great Britain</td><td>Triathlon</td><td>Great Britain</td><td>Mixed Relay</td></tr><tr><td>Hungary</td><td>Triathlon</td><td>Hungary</td><td>Mixed Relay</td></tr><tr><td>Italy</td><td>Triathlon</td><td>Italy</td><td>Mixed Relay</td></tr><tr><td>Japan</td><td>Triathlon</td><td>Japan</td><td>Mixed Relay</td></tr><tr><td>Mexico</td><td>Triathlon</td><td>Mexico</td><td>Mixed Relay</td></tr><tr><td>Netherlands</td><td>Triathlon</td><td>Netherlands</td><td>Mixed Relay</td></tr><tr><td>New Zealand</td><td>Triathlon</td><td>New Zealand</td><td>Mixed Relay</td></tr><tr><td>ROC</td><td>Triathlon</td><td>ROC</td><td>Mixed Relay</td></tr><tr><td>South Africa</td><td>Triathlon</td><td>South Africa</td><td>Mixed Relay</td></tr><tr><td>Spain</td><td>Triathlon</td><td>Spain</td><td>Mixed Relay</td></tr><tr><td>Switzerland</td><td>Triathlon</td><td>Switzerland</td><td>Mixed Relay</td></tr><tr><td>United States</td><td>Triathlon</td><td>United States of America</td><td>Mixed Relay</td></tr><tr><td>Argentina</td><td>Volleyball</td><td>Argentina</td><td>Men</td></tr><tr><td>Argentina</td><td>Volleyball</td><td>Argentina</td><td>Women</td></tr><tr><td>Brazil</td><td>Volleyball</td><td>Brazil</td><td>Men</td></tr><tr><td>Brazil</td><td>Volleyball</td><td>Brazil</td><td>Women</td></tr><tr><td>Canada</td><td>Volleyball</td><td>Canada</td><td>Men</td></tr><tr><td>China</td><td>Volleyball</td><td>People's Republic of China</td><td>Women</td></tr><tr><td>Dominican Rep.</td><td>Volleyball</td><td>Dominican Republic</td><td>Women</td></tr><tr><td>France</td><td>Volleyball</td><td>France</td><td>Men</td></tr><tr><td>Islamic Rep. of Iran</td><td>Volleyball</td><td>Islamic Republic of Iran</td><td>Men</td></tr><tr><td>Italy</td><td>Volleyball</td><td>Italy</td><td>Men</td></tr><tr><td>Italy</td><td>Volleyball</td><td>Italy</td><td>Women</td></tr><tr><td>Japan</td><td>Volleyball</td><td>Japan</td><td>Men</td></tr><tr><td>Japan</td><td>Volleyball</td><td>Japan</td><td>Women</td></tr><tr><td>Kenya</td><td>Volleyball</td><td>Kenya</td><td>Women</td></tr><tr><td>Poland</td><td>Volleyball</td><td>Poland</td><td>Men</td></tr><tr><td>Republic of Korea</td><td>Volleyball</td><td>Republic of Korea</td><td>Women</td></tr><tr><td>ROC</td><td>Volleyball</td><td>ROC</td><td>Men</td></tr><tr><td>ROC</td><td>Volleyball</td><td>ROC</td><td>Women</td></tr><tr><td>Serbia</td><td>Volleyball</td><td>Serbia</td><td>Women</td></tr><tr><td>Tunisia</td><td>Volleyball</td><td>Tunisia</td><td>Men</td></tr><tr><td>Turkey</td><td>Volleyball</td><td>Turkey</td><td>Women</td></tr><tr><td>United States</td><td>Volleyball</td><td>United States of America</td><td>Men</td></tr><tr><td>United States</td><td>Volleyball</td><td>United States of America</td><td>Women</td></tr><tr><td>Venezuela</td><td>Volleyball</td><td>Venezuela</td><td>Men</td></tr><tr><td>Australia</td><td>Water Polo</td><td>Australia</td><td>Men</td></tr><tr><td>Australia</td><td>Water Polo</td><td>Australia</td><td>Women</td></tr><tr><td>Canada</td><td>Water Polo</td><td>Canada</td><td>Women</td></tr><tr><td>China</td><td>Water Polo</td><td>People's Republic of China</td><td>Women</td></tr><tr><td>Croatia</td><td>Water Polo</td><td>Croatia</td><td>Men</td></tr><tr><td>Greece</td><td>Water Polo</td><td>Greece</td><td>Men</td></tr><tr><td>Hungary</td><td>Water Polo</td><td>Hungary</td><td>Men</td></tr><tr><td>Hungary</td><td>Water Polo</td><td>Hungary</td><td>Women</td></tr><tr><td>Italy</td><td>Water Polo</td><td>Italy</td><td>Men</td></tr><tr><td>Japan</td><td>Water Polo</td><td>Japan</td><td>Men</td></tr><tr><td>Japan</td><td>Water Polo</td><td>Japan</td><td>Women</td></tr><tr><td>Kazakhstan</td><td>Water Polo</td><td>Kazakhstan</td><td>Men</td></tr><tr><td>Montenegro</td><td>Water Polo</td><td>Montenegro</td><td>Men</td></tr><tr><td>Netherlands</td><td>Water Polo</td><td>Netherlands</td><td>Women</td></tr><tr><td>ROC</td><td>Water Polo</td><td>ROC</td><td>Women</td></tr><tr><td>Serbia</td><td>Water Polo</td><td>Serbia</td><td>Men</td></tr><tr><td>South Africa</td><td>Water Polo</td><td>South Africa</td><td>Men</td></tr><tr><td>South Africa</td><td>Water Polo</td><td>South Africa</td><td>Women</td></tr><tr><td>Spain</td><td>Water Polo</td><td>Spain</td><td>Men</td></tr><tr><td>Spain</td><td>Water Polo</td><td>Spain</td><td>Women</td></tr><tr><td>United States</td><td>Water Polo</td><td>United States of America</td><td>Men</td></tr><tr><td>United States</td><td>Water Polo</td><td>United States of America</td><td>Women</td></tr></tbody></table></div>"
      ]
     },
     "metadata": {
      "application/vnd.databricks.v1+output": {
       "addedWidgets": {},
       "aggData": [],
       "aggError": "",
       "aggOverflow": false,
       "aggSchema": [],
       "aggSeriesLimitReached": false,
       "aggType": "",
       "arguments": {},
       "columnCustomDisplayInfos": {},
       "data": [
        [
         "Belgium",
         "3x3 Basketball",
         "Belgium",
         "Men"
        ],
        [
         "China",
         "3x3 Basketball",
         "People's Republic of China",
         "Men"
        ],
        [
         "China",
         "3x3 Basketball",
         "People's Republic of China",
         "Women"
        ],
        [
         "France",
         "3x3 Basketball",
         "France",
         "Women"
        ],
        [
         "Italy",
         "3x3 Basketball",
         "Italy",
         "Women"
        ],
        [
         "Japan",
         "3x3 Basketball",
         "Japan",
         "Men"
        ],
        [
         "Japan",
         "3x3 Basketball",
         "Japan",
         "Women"
        ],
        [
         "Latvia",
         "3x3 Basketball",
         "Latvia",
         "Men"
        ],
        [
         "Mongolia",
         "3x3 Basketball",
         "Mongolia",
         "Women"
        ],
        [
         "Netherlands",
         "3x3 Basketball",
         "Netherlands",
         "Men"
        ],
        [
         "Poland",
         "3x3 Basketball",
         "Poland",
         "Men"
        ],
        [
         "ROC",
         "3x3 Basketball",
         "ROC",
         "Men"
        ],
        [
         "ROC",
         "3x3 Basketball",
         "ROC",
         "Women"
        ],
        [
         "Romania",
         "3x3 Basketball",
         "Romania",
         "Women"
        ],
        [
         "Serbia",
         "3x3 Basketball",
         "Serbia",
         "Men"
        ],
        [
         "United States",
         "3x3 Basketball",
         "United States of America",
         "Women"
        ],
        [
         "Australia",
         "Archery",
         "Australia",
         "Men's Team"
        ],
        [
         "Australia",
         "Archery",
         "Australia",
         "Mixed Team"
        ],
        [
         "Bangladesh",
         "Archery",
         "Bangladesh",
         "Mixed Team"
        ],
        [
         "Belarus",
         "Archery",
         "Belarus",
         "Women's Team"
        ],
        [
         "Brazil",
         "Archery",
         "Brazil",
         "Mixed Team"
        ],
        [
         "Canada",
         "Archery",
         "Canada",
         "Mixed Team"
        ],
        [
         "China",
         "Archery",
         "People's Republic of China",
         "Men's Team"
        ],
        [
         "China",
         "Archery",
         "People's Republic of China",
         "Mixed Team"
        ],
        [
         "China",
         "Archery",
         "People's Republic of China",
         "Women's Team"
        ],
        [
         "Chinese Taipei",
         "Archery",
         "Chinese Taipei",
         "Men's Team"
        ],
        [
         "Chinese Taipei",
         "Archery",
         "Chinese Taipei",
         "Mixed Team"
        ],
        [
         "Chinese Taipei",
         "Archery",
         "Chinese Taipei",
         "Women's Team"
        ],
        [
         "Colombia",
         "Archery",
         "Colombia",
         "Mixed Team"
        ],
        [
         "Egypt",
         "Archery",
         "Egypt",
         "Mixed Team"
        ],
        [
         "France",
         "Archery",
         "France",
         "Men's Team"
        ],
        [
         "France",
         "Archery",
         "France",
         "Mixed Team"
        ],
        [
         "Germany",
         "Archery",
         "Germany",
         "Mixed Team"
        ],
        [
         "Germany",
         "Archery",
         "Germany",
         "Women's Team"
        ],
        [
         "Great Britain",
         "Archery",
         "Great Britain",
         "Men's Team"
        ],
        [
         "Great Britain",
         "Archery",
         "Great Britain",
         "Mixed Team"
        ],
        [
         "Great Britain",
         "Archery",
         "Great Britain",
         "Women's Team"
        ],
        [
         "India",
         "Archery",
         "India",
         "Men's Team"
        ],
        [
         "India",
         "Archery",
         "India",
         "Mixed Team"
        ],
        [
         "Indonesia",
         "Archery",
         "Indonesia",
         "Men's Team"
        ],
        [
         "Indonesia",
         "Archery",
         "Indonesia",
         "Mixed Team"
        ],
        [
         "Italy",
         "Archery",
         "Italy",
         "Mixed Team"
        ],
        [
         "Italy",
         "Archery",
         "Italy",
         "Women's Team"
        ],
        [
         "Japan",
         "Archery",
         "Japan",
         "Men's Team"
        ],
        [
         "Japan",
         "Archery",
         "Japan",
         "Mixed Team"
        ],
        [
         "Japan",
         "Archery",
         "Japan",
         "Women's Team"
        ],
        [
         "Kazakhstan",
         "Archery",
         "Kazakhstan",
         "Men's Team"
        ],
        [
         "Malaysia",
         "Archery",
         "Malaysia",
         "Mixed Team"
        ],
        [
         "Mexico",
         "Archery",
         "Mexico",
         "Mixed Team"
        ],
        [
         "Mexico",
         "Archery",
         "Mexico",
         "Women's Team"
        ],
        [
         "Mongolia",
         "Archery",
         "Mongolia",
         "Mixed Team"
        ],
        [
         "Netherlands",
         "Archery",
         "Netherlands",
         "Men's Team"
        ],
        [
         "Netherlands",
         "Archery",
         "Netherlands",
         "Mixed Team"
        ],
        [
         "Poland",
         "Archery",
         "Poland",
         "Mixed Team"
        ],
        [
         "Rep. of Moldova",
         "Archery",
         "Republic of Moldova",
         "Mixed Team"
        ],
        [
         "Republic of Korea",
         "Archery",
         "Republic of Korea",
         "Men's Team"
        ],
        [
         "Republic of Korea",
         "Archery",
         "Republic of Korea",
         "Mixed Team"
        ],
        [
         "Republic of Korea",
         "Archery",
         "Republic of Korea",
         "Women's Team"
        ],
        [
         "ROC",
         "Archery",
         "ROC",
         "Mixed Team"
        ],
        [
         "ROC",
         "Archery",
         "ROC",
         "Women's Team"
        ],
        [
         "Spain",
         "Archery",
         "Spain",
         "Mixed Team"
        ],
        [
         "Tunisia",
         "Archery",
         "Tunisia",
         "Mixed Team"
        ],
        [
         "Turkey",
         "Archery",
         "Turkey",
         "Mixed Team"
        ],
        [
         "Ukraine",
         "Archery",
         "Ukraine",
         "Mixed Team"
        ],
        [
         "Ukraine",
         "Archery",
         "Ukraine",
         "Women's Team"
        ],
        [
         "United States",
         "Archery",
         "United States of America",
         "Men's Team"
        ],
        [
         "United States",
         "Archery",
         "United States of America",
         "Mixed Team"
        ],
        [
         "United States",
         "Archery",
         "United States of America",
         "Women's Team"
        ],
        [
         "Vietnam",
         "Archery",
         "Vietnam",
         "Mixed Team"
        ],
        [
         "Belgium",
         "Artistic Gymnastics",
         "Belgium",
         "Women's Team"
        ],
        [
         "Brazil",
         "Artistic Gymnastics",
         "Brazil",
         "Men's Team"
        ],
        [
         "Canada",
         "Artistic Gymnastics",
         "Canada",
         "Women's Team"
        ],
        [
         "China",
         "Artistic Gymnastics",
         "People's Republic of China",
         "Men's Team"
        ],
        [
         "China",
         "Artistic Gymnastics",
         "People's Republic of China",
         "Women's Team"
        ],
        [
         "Chinese Taipei",
         "Artistic Gymnastics",
         "Chinese Taipei",
         "Men's Team"
        ],
        [
         "France",
         "Artistic Gymnastics",
         "France",
         "Women's Team"
        ],
        [
         "Germany",
         "Artistic Gymnastics",
         "Germany",
         "Men's Team"
        ],
        [
         "Germany",
         "Artistic Gymnastics",
         "Germany",
         "Women's Team"
        ],
        [
         "Great Britain",
         "Artistic Gymnastics",
         "Great Britain",
         "Men's Team"
        ],
        [
         "Great Britain",
         "Artistic Gymnastics",
         "Great Britain",
         "Women's Team"
        ],
        [
         "Italy",
         "Artistic Gymnastics",
         "Italy",
         "Women's Team"
        ],
        [
         "Japan",
         "Artistic Gymnastics",
         "Japan",
         "Men's Team"
        ],
        [
         "Japan",
         "Artistic Gymnastics",
         "Japan",
         "Women's Team"
        ],
        [
         "Netherlands",
         "Artistic Gymnastics",
         "Netherlands",
         "Women's Team"
        ],
        [
         "Korea",
         "Artistic Gymnastics",
         "Republic of Korea",
         "Men's Team"
        ],
        [
         "ROC",
         "Artistic Gymnastics",
         "ROC",
         "Men's Team"
        ],
        [
         "ROC",
         "Artistic Gymnastics",
         "ROC",
         "Women's Team"
        ],
        [
         "Spain",
         "Artistic Gymnastics",
         "Spain",
         "Men's Team"
        ],
        [
         "Spain",
         "Artistic Gymnastics",
         "Spain",
         "Women's Team"
        ],
        [
         "Switzerland",
         "Artistic Gymnastics",
         "Switzerland",
         "Men's Team"
        ],
        [
         "Ukraine",
         "Artistic Gymnastics",
         "Ukraine",
         "Men's Team"
        ],
        [
         "United States",
         "Artistic Gymnastics",
         "United States of America",
         "Men's Team"
        ],
        [
         "United States",
         "Artistic Gymnastics",
         "United States of America",
         "Women's Team"
        ],
        [
         "Australia",
         "Artistic Swimming",
         "Australia",
         "Duet"
        ],
        [
         "Australia",
         "Artistic Swimming",
         "Australia",
         "Team"
        ],
        [
         "Austria",
         "Artistic Swimming",
         "Austria",
         "Duet"
        ],
        [
         "Belarus",
         "Artistic Swimming",
         "Belarus",
         "Duet"
        ],
        [
         "Canada",
         "Artistic Swimming",
         "Canada",
         "Duet"
        ],
        [
         "Canada",
         "Artistic Swimming",
         "Canada",
         "Team"
        ],
        [
         "China",
         "Artistic Swimming",
         "People's Republic of China",
         "Duet"
        ],
        [
         "China",
         "Artistic Swimming",
         "People's Republic of China",
         "Team"
        ],
        [
         "Colombia",
         "Artistic Swimming",
         "Colombia",
         "Duet"
        ],
        [
         "Egypt",
         "Artistic Swimming",
         "Egypt",
         "Duet"
        ],
        [
         "Egypt",
         "Artistic Swimming",
         "Egypt",
         "Team"
        ],
        [
         "France",
         "Artistic Swimming",
         "France",
         "Duet"
        ],
        [
         "Great Britain",
         "Artistic Swimming",
         "Great Britain",
         "Duet"
        ],
        [
         "Greece",
         "Artistic Swimming",
         "Greece",
         "Duet"
        ],
        [
         "Greece",
         "Artistic Swimming",
         "Greece",
         "Team"
        ],
        [
         "Israel",
         "Artistic Swimming",
         "Israel",
         "Duet"
        ],
        [
         "Italy",
         "Artistic Swimming",
         "Italy",
         "Duet"
        ],
        [
         "Italy",
         "Artistic Swimming",
         "Italy",
         "Team"
        ],
        [
         "Japan",
         "Artistic Swimming",
         "Japan",
         "Duet"
        ],
        [
         "Japan",
         "Artistic Swimming",
         "Japan",
         "Team"
        ],
        [
         "Kazakhstan",
         "Artistic Swimming",
         "Kazakhstan",
         "Duet"
        ],
        [
         "Liechtenstein",
         "Artistic Swimming",
         "Liechtenstein",
         "Duet"
        ],
        [
         "Mexico",
         "Artistic Swimming",
         "Mexico",
         "Duet"
        ],
        [
         "Netherlands",
         "Artistic Swimming",
         "Netherlands",
         "Duet"
        ],
        [
         "ROC",
         "Artistic Swimming",
         "ROC",
         "Duet"
        ],
        [
         "ROC",
         "Artistic Swimming",
         "ROC",
         "Team"
        ],
        [
         "South Africa",
         "Artistic Swimming",
         "South Africa",
         "Duet"
        ],
        [
         "Spain",
         "Artistic Swimming",
         "Spain",
         "Duet"
        ],
        [
         "Spain",
         "Artistic Swimming",
         "Spain",
         "Team"
        ],
        [
         "Ukraine",
         "Artistic Swimming",
         "Ukraine",
         "Duet"
        ],
        [
         "Ukraine",
         "Artistic Swimming",
         "Ukraine",
         "Team"
        ],
        [
         "United States",
         "Artistic Swimming",
         "United States of America",
         "Duet"
        ],
        [
         "Australia",
         "Athletics",
         "Australia",
         "Women's 4 x 400m Relay"
        ],
        [
         "Bahamas",
         "Athletics",
         "Bahamas",
         "Women's 4 x 400m Relay"
        ],
        [
         "Belarus",
         "Athletics",
         "Belarus",
         "Women's 4 x 400m Relay"
        ],
        [
         "Belgium",
         "Athletics",
         "Belgium",
         "4 x 400m Relay Mixed"
        ],
        [
         "Belgium",
         "Athletics",
         "Belgium",
         "Men's 4 x 400m Relay"
        ],
        [
         "Belgium",
         "Athletics",
         "Belgium",
         "Women's 4 x 400m Relay"
        ],
        [
         "Botswana",
         "Athletics",
         "Botswana",
         "Men's 4 x 400m Relay"
        ],
        [
         "Brazil",
         "Athletics",
         "Brazil",
         "4 x 400m Relay Mixed"
        ],
        [
         "Brazil",
         "Athletics",
         "Brazil",
         "Men's 4 x 100m Relay"
        ],
        [
         "Brazil",
         "Athletics",
         "Brazil",
         "Women's 4 x 100m Relay"
        ],
        [
         "Canada",
         "Athletics",
         "Canada",
         "Men's 4 x 100m Relay"
        ],
        [
         "Canada",
         "Athletics",
         "Canada",
         "Women's 4 x 400m Relay"
        ],
        [
         "China",
         "Athletics",
         "People's Republic of China",
         "Men's 4 x 100m Relay"
        ],
        [
         "China",
         "Athletics",
         "People's Republic of China",
         "Women's 4 x 100m Relay"
        ],
        [
         "Colombia",
         "Athletics",
         "Colombia",
         "Men's 4 x 400m Relay"
        ],
        [
         "Cuba",
         "Athletics",
         "Cuba",
         "Women's 4 x 400m Relay"
        ],
        [
         "Czech Republic",
         "Athletics",
         "Czech Republic",
         "Men's 4 x 400m Relay"
        ],
        [
         "Denmark",
         "Athletics",
         "Denmark",
         "Men's 4 x 100m Relay"
        ],
        [
         "Denmark",
         "Athletics",
         "Denmark",
         "Women's 4 x 100m Relay"
        ],
        [
         "Dominican Rep.",
         "Athletics",
         "Dominican Republic",
         "4 x 400m Relay Mixed"
        ],
        [
         "Ecuador",
         "Athletics",
         "Ecuador",
         "Women's 4 x 100m Relay"
        ],
        [
         "France",
         "Athletics",
         "France",
         "Men's 4 x 100m Relay"
        ],
        [
         "France",
         "Athletics",
         "France",
         "Men's 4 x 400m Relay"
        ],
        [
         "France",
         "Athletics",
         "France",
         "Women's 4 x 100m Relay"
        ],
        [
         "France",
         "Athletics",
         "France",
         "Women's 4 x 400m Relay"
        ],
        [
         "Germany",
         "Athletics",
         "Germany",
         "4 x 400m Relay Mixed"
        ],
        [
         "Germany",
         "Athletics",
         "Germany",
         "Men's 4 x 100m Relay"
        ],
        [
         "Germany",
         "Athletics",
         "Germany",
         "Men's 4 x 400m Relay"
        ],
        [
         "Germany",
         "Athletics",
         "Germany",
         "Women's 4 x 100m Relay"
        ],
        [
         "Germany",
         "Athletics",
         "Germany",
         "Women's 4 x 400m Relay"
        ],
        [
         "Ghana",
         "Athletics",
         "Ghana",
         "Men's 4 x 100m Relay"
        ],
        [
         "Great Britain",
         "Athletics",
         "Great Britain",
         "4 x 400m Relay Mixed"
        ],
        [
         "Great Britain",
         "Athletics",
         "Great Britain",
         "Men's 4 x 100m Relay"
        ],
        [
         "Great Britain",
         "Athletics",
         "Great Britain",
         "Men's 4 x 400m Relay"
        ],
        [
         "Great Britain",
         "Athletics",
         "Great Britain",
         "Women's 4 x 100m Relay"
        ],
        [
         "Great Britain",
         "Athletics",
         "Great Britain",
         "Women's 4 x 400m Relay"
        ],
        [
         "India",
         "Athletics",
         "India",
         "4 x 400m Relay Mixed"
        ],
        [
         "India",
         "Athletics",
         "India",
         "Men's 4 x 400m Relay"
        ],
        [
         "Ireland",
         "Athletics",
         "Ireland",
         "4 x 400m Relay Mixed"
        ],
        [
         "Italy",
         "Athletics",
         "Italy",
         "4 x 400m Relay Mixed"
        ],
        [
         "Italy",
         "Athletics",
         "Italy",
         "Men's 4 x 100m Relay"
        ],
        [
         "Italy",
         "Athletics",
         "Italy",
         "Men's 4 x 400m Relay"
        ],
        [
         "Italy",
         "Athletics",
         "Italy",
         "Women's 4 x 100m Relay"
        ],
        [
         "Italy",
         "Athletics",
         "Italy",
         "Women's 4 x 400m Relay"
        ],
        [
         "Jamaica",
         "Athletics",
         "Jamaica",
         "4 x 400m Relay Mixed"
        ],
        [
         "Jamaica",
         "Athletics",
         "Jamaica",
         "Men's 4 x 100m Relay"
        ],
        [
         "Jamaica",
         "Athletics",
         "Jamaica",
         "Men's 4 x 400m Relay"
        ],
        [
         "Jamaica",
         "Athletics",
         "Jamaica",
         "Women's 4 x 100m Relay"
        ],
        [
         "Jamaica",
         "Athletics",
         "Jamaica",
         "Women's 4 x 400m Relay"
        ],
        [
         "Japan",
         "Athletics",
         "Japan",
         "Men's 4 x 100m Relay"
        ],
        [
         "Japan",
         "Athletics",
         "Japan",
         "Men's 4 x 400m Relay"
        ],
        [
         "Japan",
         "Athletics",
         "Japan",
         "Women's 4 x 100m Relay"
        ],
        [
         "Netherlands",
         "Athletics",
         "Netherlands",
         "4 x 400m Relay Mixed"
        ],
        [
         "Netherlands",
         "Athletics",
         "Netherlands",
         "Men's 4 x 100m Relay"
        ],
        [
         "Netherlands",
         "Athletics",
         "Netherlands",
         "Men's 4 x 400m Relay"
        ],
        [
         "Netherlands",
         "Athletics",
         "Netherlands",
         "Women's 4 x 100m Relay"
        ],
        [
         "Netherlands",
         "Athletics",
         "Netherlands",
         "Women's 4 x 400m Relay"
        ],
        [
         "Nigeria",
         "Athletics",
         "Nigeria",
         "4 x 400m Relay Mixed"
        ],
        [
         "Nigeria",
         "Athletics",
         "Nigeria",
         "Women's 4 x 100m Relay"
        ],
        [
         "Poland",
         "Athletics",
         "Poland",
         "4 x 400m Relay Mixed"
        ],
        [
         "Poland",
         "Athletics",
         "Poland",
         "Men's 4 x 400m Relay"
        ],
        [
         "Poland",
         "Athletics",
         "Poland",
         "Women's 4 x 100m Relay"
        ],
        [
         "Poland",
         "Athletics",
         "Poland",
         "Women's 4 x 400m Relay"
        ],
        [
         "South Africa",
         "Athletics",
         "South Africa",
         "Men's 4 x 100m Relay"
        ],
        [
         "South Africa",
         "Athletics",
         "South Africa",
         "Men's 4 x 400m Relay"
        ],
        [
         "Spain",
         "Athletics",
         "Spain",
         "4 x 400m Relay Mixed"
        ],
        [
         "Switzerland",
         "Athletics",
         "Switzerland",
         "Women's 4 x 100m Relay"
        ],
        [
         "Switzerland",
         "Athletics",
         "Switzerland",
         "Women's 4 x 400m Relay"
        ],
        [
         "Trinidad & Tobago",
         "Athletics",
         "Trinidad and Tobago",
         "Men's 4 x 100m Relay"
        ],
        [
         "Trinidad & Tobago",
         "Athletics",
         "Trinidad and Tobago",
         "Men's 4 x 400m Relay"
        ],
        [
         "Trinidad & Tobago",
         "Athletics",
         "Trinidad and Tobago",
         "Women's 4 x 100m Relay"
        ],
        [
         "Turkey",
         "Athletics",
         "Turkey",
         "Men's 4 x 100m Relay"
        ],
        [
         "Ukraine",
         "Athletics",
         "Ukraine",
         "4 x 400m Relay Mixed"
        ],
        [
         "Ukraine",
         "Athletics",
         "Ukraine",
         "Women's 4 x 400m Relay"
        ],
        [
         "United States",
         "Athletics",
         "United States of America",
         "4 x 400m Relay Mixed"
        ],
        [
         "United States",
         "Athletics",
         "United States of America",
         "Men's 4 x 100m Relay"
        ],
        [
         "United States",
         "Athletics",
         "United States of America",
         "Men's 4 x 400m Relay"
        ],
        [
         "United States",
         "Athletics",
         "United States of America",
         "Women's 4 x 100m Relay"
        ],
        [
         "United States",
         "Athletics",
         "United States of America",
         "Women's 4 x 400m Relay"
        ],
        [
         "Australia",
         "Baseball/Softball",
         "Australia",
         "Softball"
        ],
        [
         "Canada",
         "Baseball/Softball",
         "Canada",
         "Softball"
        ],
        [
         "Dominican Rep.",
         "Baseball/Softball",
         "Dominican Republic",
         "Baseball"
        ],
        [
         "Israel",
         "Baseball/Softball",
         "Israel",
         "Baseball"
        ],
        [
         "Italy",
         "Baseball/Softball",
         "Italy",
         "Softball"
        ],
        [
         "Japan",
         "Baseball/Softball",
         "Japan",
         "Baseball"
        ],
        [
         "Japan",
         "Baseball/Softball",
         "Japan",
         "Softball"
        ],
        [
         "Mexico",
         "Baseball/Softball",
         "Mexico",
         "Baseball"
        ],
        [
         "Mexico",
         "Baseball/Softball",
         "Mexico",
         "Softball"
        ],
        [
         "Republic of Korea",
         "Baseball/Softball",
         "Republic of Korea",
         "Baseball"
        ],
        [
         "United States",
         "Baseball/Softball",
         "United States of America",
         "Baseball"
        ],
        [
         "United States",
         "Baseball/Softball",
         "United States of America",
         "Softball"
        ],
        [
         "Argentina",
         "Basketball",
         "Argentina",
         "Men"
        ],
        [
         "Australia",
         "Basketball",
         "Australia",
         "Men"
        ],
        [
         "Australia",
         "Basketball",
         "Australia",
         "Women"
        ],
        [
         "Belgium",
         "Basketball",
         "Belgium",
         "Women"
        ],
        [
         "Canada",
         "Basketball",
         "Canada",
         "Women"
        ],
        [
         "China",
         "Basketball",
         "People's Republic of China",
         "Women"
        ],
        [
         "Czech Republic",
         "Basketball",
         "Czech Republic",
         "Men"
        ],
        [
         "France",
         "Basketball",
         "France",
         "Men"
        ],
        [
         "France",
         "Basketball",
         "France",
         "Women"
        ],
        [
         "Germany",
         "Basketball",
         "Germany",
         "Men"
        ],
        [
         "Islamic Rep. of Iran",
         "Basketball",
         "Islamic Republic of Iran",
         "Men"
        ],
        [
         "Italy",
         "Basketball",
         "Italy",
         "Men"
        ],
        [
         "Japan",
         "Basketball",
         "Japan",
         "Men"
        ],
        [
         "Japan",
         "Basketball",
         "Japan",
         "Women"
        ],
        [
         "Nigeria",
         "Basketball",
         "Nigeria",
         "Men"
        ],
        [
         "Nigeria",
         "Basketball",
         "Nigeria",
         "Women"
        ],
        [
         "Puerto Rico",
         "Basketball",
         "Puerto Rico",
         "Women"
        ],
        [
         "Republic of Korea",
         "Basketball",
         "Republic of Korea",
         "Women"
        ],
        [
         "Serbia",
         "Basketball",
         "Serbia",
         "Women"
        ],
        [
         "Slovenia",
         "Basketball",
         "Slovenia",
         "Men"
        ],
        [
         "Spain",
         "Basketball",
         "Spain",
         "Men"
        ],
        [
         "Spain",
         "Basketball",
         "Spain",
         "Women"
        ],
        [
         "United States",
         "Basketball",
         "United States of America",
         "Men"
        ],
        [
         "United States",
         "Basketball",
         "United States of America",
         "Women"
        ],
        [
         "Azaad/Capogrosso",
         "Beach Volleyball",
         "Argentina",
         "Men"
        ],
        [
         "Gallay/Pereyra",
         "Beach Volleyball",
         "Argentina",
         "Women"
        ],
        [
         "McHugh/Schumann",
         "Beach Volleyball",
         "Australia",
         "Men"
        ],
        [
         "Artacho Del Solar/Clancy",
         "Beach Volleyball",
         "Australia",
         "Women"
        ],
        [
         "Alison/Alvaro Filho",
         "Beach Volleyball",
         "Brazil",
         "Men"
        ],
        [
         "Evandro/Bruno Schmidt",
         "Beach Volleyball",
         "Brazil",
         "Men"
        ],
        [
         "Ana Patricia/Rebecca",
         "Beach Volleyball",
         "Brazil",
         "Women"
        ],
        [
         "Agatha/Duda",
         "Beach Volleyball",
         "Brazil",
         "Women"
        ],
        [
         "Bansley/Brandie",
         "Beach Volleyball",
         "Canada",
         "Women"
        ],
        [
         "Pavan/Melissa",
         "Beach Volleyball",
         "Canada",
         "Women"
        ],
        [
         "Grimalt M./Grimalt E.",
         "Beach Volleyball",
         "Chile",
         "Men"
        ],
        [
         "Wang/X.Y.Xia",
         "Beach Volleyball",
         "People's Republic of China",
         "Women"
        ],
        [
         "Xue/Wang X.X.",
         "Beach Volleyball",
         "People's Republic of China",
         "Women"
        ],
        [
         "Lidy/Leila",
         "Beach Volleyball",
         "Cuba",
         "Women"
        ],
        [
         "Perusic/Schweiner",
         "Beach Volleyball",
         "Czech Republic",
         "Men"
        ],
        [
         "Hermannova/Slukova",
         "Beach Volleyball",
         "Czech Republic",
         "Women"
        ],
        [
         "Thole J./Wickler",
         "Beach Volleyball",
         "Germany",
         "Men"
        ],
        [
         "Ludwig/Kozuch",
         "Beach Volleyball",
         "Germany",
         "Women"
        ],
        [
         "Sude/Borger",
         "Beach Volleyball",
         "Germany",
         "Women"
        ],
        [
         "Nicolai/Lupo",
         "Beach Volleyball",
         "Italy",
         "Men"
        ],
        [
         "Carambula/Rossi",
         "Beach Volleyball",
         "Italy",
         "Men"
        ],
        [
         "Menegatti/Orsi Toth",
         "Beach Volleyball",
         "Italy",
         "Women"
        ],
        [
         "Gottsu/Shiratori",
         "Beach Volleyball",
         "Japan",
         "Men"
        ],
        [
         "Ishii/Murakami",
         "Beach Volleyball",
         "Japan",
         "Women"
        ],
        [
         "Makokha/Khadambi",
         "Beach Volleyball",
         "Kenya",
         "Women"
        ],
        [
         "Plavins/Tocs",
         "Beach Volleyball",
         "Latvia",
         "Men"
        ],
        [
         "Graudina/Kravcenoka",
         "Beach Volleyball",
         "Latvia",
         "Women"
        ],
        [
         "Gaxiola/Rubio",
         "Beach Volleyball",
         "Mexico",
         "Men"
        ],
        [
         "Abicha/Elgraoui",
         "Beach Volleyball",
         "Morocco",
         "Men"
        ],
        [
         "Brouwer/Meeuwsen",
         "Beach Volleyball",
         "Netherlands",
         "Men"
        ],
        [
         "Keizer/Meppelink",
         "Beach Volleyball",
         "Netherlands",
         "Women"
        ],
        [
         "Stam/Schoon",
         "Beach Volleyball",
         "Netherlands",
         "Women"
        ],
        [
         "Mol A./Sorum C.",
         "Beach Volleyball",
         "Norway",
         "Men"
        ],
        [
         "Bryl/Fijalek",
         "Beach Volleyball",
         "Poland",
         "Men"
        ],
        [
         "Kantor/Losiak",
         "Beach Volleyball",
         "Poland",
         "Men"
        ],
        [
         "Cherif/Ahmed",
         "Beach Volleyball",
         "Qatar",
         "Men"
        ],
        [
         "Krasilnikov/Stoyanovskiy",
         "Beach Volleyball",
         "ROC",
         "Men"
        ],
        [
         "Leshukov/Semenov",
         "Beach Volleyball",
         "ROC",
         "Men"
        ],
        [
         "Makroguzova/Kholomina",
         "Beach Volleyball",
         "ROC",
         "Women"
        ],
        [
         "Herrera/Gavira",
         "Beach Volleyball",
         "Spain",
         "Men"
        ],
        [
         "Liliana/Elsa",
         "Beach Volleyball",
         "Spain",
         "Women"
        ],
        [
         "Heidrich/Gerson",
         "Beach Volleyball",
         "Switzerland",
         "Men"
        ],
        [
         "Huberli/Betschart",
         "Beach Volleyball",
         "Switzerland",
         "Women"
        ],
        [
         "Verge-Depre, A./Heidrich",
         "Beach Volleyball",
         "Switzerland",
         "Women"
        ],
        [
         "Gibb/Bourne",
         "Beach Volleyball",
         "United States of America",
         "Men"
        ],
        [
         "Lucena/Dalhausser",
         "Beach Volleyball",
         "United States of America",
         "Men"
        ],
        [
         "April/Alix",
         "Beach Volleyball",
         "United States of America",
         "Women"
        ],
        [
         "Claes/Sponcil",
         "Beach Volleyball",
         "United States of America",
         "Women"
        ],
        [
         "Australia",
         "Cycling Track",
         "Australia",
         "Men's Madison"
        ],
        [
         "Australia",
         "Cycling Track",
         "Australia",
         "Men's Team Pursuit"
        ],
        [
         "Australia",
         "Cycling Track",
         "Australia",
         "Men's Team Sprint"
        ],
        [
         "Australia",
         "Cycling Track",
         "Australia",
         "Women's Madison"
        ],
        [
         "Australia",
         "Cycling Track",
         "Australia",
         "Women's Team Pursuit"
        ],
        [
         "Austria",
         "Cycling Track",
         "Austria",
         "Men's Madison"
        ],
        [
         "Belgium",
         "Cycling Track",
         "Belgium",
         "Men's Madison"
        ],
        [
         "Belgium",
         "Cycling Track",
         "Belgium",
         "Women's Madison"
        ],
        [
         "Canada",
         "Cycling Track",
         "Canada",
         "Men's Madison"
        ],
        [
         "Canada",
         "Cycling Track",
         "Canada",
         "Men's Team Pursuit"
        ],
        [
         "Canada",
         "Cycling Track",
         "Canada",
         "Women's Madison"
        ],
        [
         "Canada",
         "Cycling Track",
         "Canada",
         "Women's Team Pursuit"
        ],
        [
         "China",
         "Cycling Track",
         "People's Republic of China",
         "Women's Team Sprint"
        ],
        [
         "Denmark",
         "Cycling Track",
         "Denmark",
         "Men's Madison"
        ],
        [
         "Denmark",
         "Cycling Track",
         "Denmark",
         "Men's Team Pursuit"
        ],
        [
         "Denmark",
         "Cycling Track",
         "Denmark",
         "Women's Madison"
        ],
        [
         "France",
         "Cycling Track",
         "France",
         "Men's Madison"
        ],
        [
         "France",
         "Cycling Track",
         "France",
         "Men's Team Sprint"
        ],
        [
         "France",
         "Cycling Track",
         "France",
         "Women's Madison"
        ],
        [
         "France",
         "Cycling Track",
         "France",
         "Women's Team Pursuit"
        ],
        [
         "Germany",
         "Cycling Track",
         "Germany",
         "Men's Madison"
        ],
        [
         "Germany",
         "Cycling Track",
         "Germany",
         "Men's Team Pursuit"
        ],
        [
         "Germany",
         "Cycling Track",
         "Germany",
         "Men's Team Sprint"
        ],
        [
         "Germany",
         "Cycling Track",
         "Germany",
         "Women's Madison"
        ],
        [
         "Germany",
         "Cycling Track",
         "Germany",
         "Women's Team Pursuit"
        ],
        [
         "Germany",
         "Cycling Track",
         "Germany",
         "Women's Team Sprint"
        ],
        [
         "Great Britain",
         "Cycling Track",
         "Great Britain",
         "Men's Madison"
        ],
        [
         "Great Britain",
         "Cycling Track",
         "Great Britain",
         "Men's Team Pursuit"
        ],
        [
         "Great Britain",
         "Cycling Track",
         "Great Britain",
         "Men's Team Sprint"
        ],
        [
         "Great Britain",
         "Cycling Track",
         "Great Britain",
         "Women's Madison"
        ],
        [
         "Great Britain",
         "Cycling Track",
         "Great Britain",
         "Women's Team Pursuit"
        ],
        [
         "Hong Kong, China",
         "Cycling Track",
         "Hong Kong, China",
         "Women's Madison"
        ],
        [
         "Ireland",
         "Cycling Track",
         "Ireland",
         "Men's Madison"
        ],
        [
         "Ireland",
         "Cycling Track",
         "Ireland",
         "Women's Madison"
        ],
        [
         "Italy",
         "Cycling Track",
         "Italy",
         "Men's Madison"
        ],
        [
         "Italy",
         "Cycling Track",
         "Italy",
         "Men's Team Pursuit"
        ],
        [
         "Italy",
         "Cycling Track",
         "Italy",
         "Women's Madison"
        ],
        [
         "Italy",
         "Cycling Track",
         "Italy",
         "Women's Team Pursuit"
        ],
        [
         "Japan",
         "Cycling Track",
         "Japan",
         "Women's Madison"
        ],
        [
         "Lithuania",
         "Cycling Track",
         "Lithuania",
         "Women's Team Sprint"
        ],
        [
         "Mexico",
         "Cycling Track",
         "Mexico",
         "Women's Team Sprint"
        ],
        [
         "Netherlands",
         "Cycling Track",
         "Netherlands",
         "Men's Madison"
        ],
        [
         "Netherlands",
         "Cycling Track",
         "Netherlands",
         "Men's Team Sprint"
        ],
        [
         "Netherlands",
         "Cycling Track",
         "Netherlands",
         "Women's Madison"
        ],
        [
         "Netherlands",
         "Cycling Track",
         "Netherlands",
         "Women's Team Sprint"
        ],
        [
         "New Zealand",
         "Cycling Track",
         "New Zealand",
         "Men's Madison"
        ],
        [
         "New Zealand",
         "Cycling Track",
         "New Zealand",
         "Men's Team Pursuit"
        ],
        [
         "New Zealand",
         "Cycling Track",
         "New Zealand",
         "Men's Team Sprint"
        ],
        [
         "New Zealand",
         "Cycling Track",
         "New Zealand",
         "Women's Madison"
        ],
        [
         "New Zealand",
         "Cycling Track",
         "New Zealand",
         "Women's Team Pursuit"
        ],
        [
         "Poland",
         "Cycling Track",
         "Poland",
         "Men's Madison"
        ],
        [
         "Poland",
         "Cycling Track",
         "Poland",
         "Men's Team Sprint"
        ],
        [
         "Poland",
         "Cycling Track",
         "Poland",
         "Women's Madison"
        ],
        [
         "Poland",
         "Cycling Track",
         "Poland",
         "Women's Team Sprint"
        ],
        [
         "ROC",
         "Cycling Track",
         "ROC",
         "Men's Team Sprint"
        ],
        [
         "ROC",
         "Cycling Track",
         "ROC",
         "Women's Madison"
        ],
        [
         "ROC",
         "Cycling Track",
         "ROC",
         "Women's Team Sprint"
        ],
        [
         "Spain",
         "Cycling Track",
         "Spain",
         "Men's Madison"
        ],
        [
         "Switzerland",
         "Cycling Track",
         "Switzerland",
         "Men's Madison"
        ],
        [
         "Switzerland",
         "Cycling Track",
         "Switzerland",
         "Men's Team Pursuit"
        ],
        [
         "Ukraine",
         "Cycling Track",
         "Ukraine",
         "Women's Team Sprint"
        ],
        [
         "United States",
         "Cycling Track",
         "United States of America",
         "Men's Madison"
        ],
        [
         "United States",
         "Cycling Track",
         "United States of America",
         "Women's Madison"
        ],
        [
         "United States",
         "Cycling Track",
         "United States of America",
         "Women's Team Pursuit"
        ],
        [
         "Canada",
         "Fencing",
         "Canada",
         "Men's Foil Team"
        ],
        [
         "Canada",
         "Fencing",
         "Canada",
         "Women's Foil Team"
        ],
        [
         "China",
         "Fencing",
         "People's Republic of China",
         "Men's �p�e Team"
        ],
        [
         "China",
         "Fencing",
         "People's Republic of China",
         "Women's �p�e Team"
        ],
        [
         "China",
         "Fencing",
         "People's Republic of China",
         "Women's Sabre Team"
        ],
        [
         "Egypt",
         "Fencing",
         "Egypt",
         "Men's Foil Team"
        ],
        [
         "Egypt",
         "Fencing",
         "Egypt",
         "Men's Sabre Team"
        ],
        [
         "Egypt",
         "Fencing",
         "Egypt",
         "Women's Foil Team"
        ],
        [
         "Estonia",
         "Fencing",
         "Estonia",
         "Women's �p�e Team"
        ],
        [
         "France",
         "Fencing",
         "France",
         "Men's �p�e Team"
        ],
        [
         "France",
         "Fencing",
         "France",
         "Men's Foil Team"
        ],
        [
         "France",
         "Fencing",
         "France",
         "Women's Foil Team"
        ],
        [
         "France",
         "Fencing",
         "France",
         "Women's Sabre Team"
        ],
        [
         "Germany",
         "Fencing",
         "Germany",
         "Men's Foil Team"
        ],
        [
         "Germany",
         "Fencing",
         "Germany",
         "Men's Sabre Team"
        ],
        [
         "Hong Kong, China",
         "Fencing",
         "Hong Kong, China",
         "Men's Foil Team"
        ],
        [
         "Hong Kong, China",
         "Fencing",
         "Hong Kong, China",
         "Women's �p�e Team"
        ],
        [
         "Hungary",
         "Fencing",
         "Hungary",
         "Men's Sabre Team"
        ],
        [
         "Hungary",
         "Fencing",
         "Hungary",
         "Women's Foil Team"
        ],
        [
         "Hungary",
         "Fencing",
         "Hungary",
         "Women's Sabre Team"
        ],
        [
         "Islamic Rep. of Iran",
         "Fencing",
         "Islamic Republic of Iran",
         "Men's Sabre Team"
        ],
        [
         "Italy",
         "Fencing",
         "Italy",
         "Men's �p�e Team"
        ],
        [
         "Italy",
         "Fencing",
         "Italy",
         "Men's Foil Team"
        ],
        [
         "Italy",
         "Fencing",
         "Italy",
         "Men's Sabre Team"
        ],
        [
         "Italy",
         "Fencing",
         "Italy",
         "Women's �p�e Team"
        ],
        [
         "Italy",
         "Fencing",
         "Italy",
         "Women's Foil Team"
        ],
        [
         "Italy",
         "Fencing",
         "Italy",
         "Women's Sabre Team"
        ],
        [
         "Japan",
         "Fencing",
         "Japan",
         "Men's �p�e Team"
        ],
        [
         "Japan",
         "Fencing",
         "Japan",
         "Men's Foil Team"
        ],
        [
         "Japan",
         "Fencing",
         "Japan",
         "Men's Sabre Team"
        ],
        [
         "Japan",
         "Fencing",
         "Japan",
         "Women's Foil Team"
        ],
        [
         "Japan",
         "Fencing",
         "Japan",
         "Women's Sabre Team"
        ],
        [
         "Poland",
         "Fencing",
         "Poland",
         "Women's �p�e Team"
        ],
        [
         "Republic of Korea",
         "Fencing",
         "Republic of Korea",
         "Men's �p�e Team"
        ],
        [
         "Republic of Korea",
         "Fencing",
         "Republic of Korea",
         "Men's Sabre Team"
        ],
        [
         "Republic of Korea",
         "Fencing",
         "Republic of Korea",
         "Women's �p�e Team"
        ],
        [
         "Republic of Korea",
         "Fencing",
         "Republic of Korea",
         "Women's Sabre Team"
        ],
        [
         "ROC",
         "Fencing",
         "ROC",
         "Men's �p�e Team"
        ],
        [
         "ROC",
         "Fencing",
         "ROC",
         "Men's Foil Team"
        ],
        [
         "ROC",
         "Fencing",
         "ROC",
         "Men's Sabre Team"
        ],
        [
         "ROC",
         "Fencing",
         "ROC",
         "Women's �p�e Team"
        ],
        [
         "ROC",
         "Fencing",
         "ROC",
         "Women's Foil Team"
        ],
        [
         "ROC",
         "Fencing",
         "ROC",
         "Women's Sabre Team"
        ],
        [
         "Switzerland",
         "Fencing",
         "Switzerland",
         "Men's �p�e Team"
        ],
        [
         "Tunisia",
         "Fencing",
         "Tunisia",
         "Women's Sabre Team"
        ],
        [
         "Ukraine",
         "Fencing",
         "Ukraine",
         "Men's �p�e Team"
        ],
        [
         "United States",
         "Fencing",
         "United States of America",
         "Men's �p�e Team"
        ],
        [
         "United States",
         "Fencing",
         "United States of America",
         "Men's Foil Team"
        ],
        [
         "United States",
         "Fencing",
         "United States of America",
         "Men's Sabre Team"
        ],
        [
         "United States",
         "Fencing",
         "United States of America",
         "Women's �p�e Team"
        ],
        [
         "United States",
         "Fencing",
         "United States of America",
         "Women's Foil Team"
        ],
        [
         "United States",
         "Fencing",
         "United States of America",
         "Women's Sabre Team"
        ],
        [
         "Argentina",
         "Football",
         "Argentina",
         "Men"
        ],
        [
         "Australia",
         "Football",
         "Australia",
         "Men"
        ],
        [
         "Australia",
         "Football",
         "Australia",
         "Women"
        ],
        [
         "Brazil",
         "Football",
         "Brazil",
         "Men"
        ],
        [
         "Brazil",
         "Football",
         "Brazil",
         "Women"
        ],
        [
         "Canada",
         "Football",
         "Canada",
         "Women"
        ],
        [
         "Chile",
         "Football",
         "Chile",
         "Women"
        ],
        [
         "China",
         "Football",
         "People's Republic of China",
         "Women"
        ],
        [
         "C�te d�Ivoire",
         "Football",
         "C�te d'Ivoire",
         "Men"
        ],
        [
         "Egypt",
         "Football",
         "Egypt",
         "Men"
        ],
        [
         "France",
         "Football",
         "France",
         "Men"
        ],
        [
         "Germany",
         "Football",
         "Germany",
         "Men"
        ],
        [
         "Great Britain",
         "Football",
         "Great Britain",
         "Women"
        ],
        [
         "Honduras",
         "Football",
         "Honduras",
         "Men"
        ],
        [
         "Japan",
         "Football",
         "Japan",
         "Men"
        ],
        [
         "Japan",
         "Football",
         "Japan",
         "Women"
        ],
        [
         "Mexico",
         "Football",
         "Mexico",
         "Men"
        ],
        [
         "Netherlands",
         "Football",
         "Netherlands",
         "Women"
        ],
        [
         "New Zealand",
         "Football",
         "New Zealand",
         "Men"
        ],
        [
         "New Zealand",
         "Football",
         "New Zealand",
         "Women"
        ],
        [
         "Republic of Korea",
         "Football",
         "Republic of Korea",
         "Men"
        ],
        [
         "Romania",
         "Football",
         "Romania",
         "Men"
        ],
        [
         "Saudi Arabia",
         "Football",
         "Saudi Arabia",
         "Men"
        ],
        [
         "South Africa",
         "Football",
         "South Africa",
         "Men"
        ],
        [
         "Spain",
         "Football",
         "Spain",
         "Men"
        ],
        [
         "Sweden",
         "Football",
         "Sweden",
         "Women"
        ],
        [
         "United States",
         "Football",
         "United States of America",
         "Women"
        ],
        [
         "Zambia",
         "Football",
         "Zambia",
         "Women"
        ],
        [
         "Angola",
         "Handball",
         "Angola",
         "Women"
        ],
        [
         "Argentina",
         "Handball",
         "Argentina",
         "Men"
        ],
        [
         "Bahrain",
         "Handball",
         "Bahrain",
         "Men"
        ],
        [
         "Brazil",
         "Handball",
         "Brazil",
         "Men"
        ],
        [
         "Brazil",
         "Handball",
         "Brazil",
         "Women"
        ],
        [
         "Denmark",
         "Handball",
         "Denmark",
         "Men"
        ],
        [
         "Egypt",
         "Handball",
         "Egypt",
         "Men"
        ],
        [
         "France",
         "Handball",
         "France",
         "Men"
        ],
        [
         "France",
         "Handball",
         "France",
         "Women"
        ],
        [
         "Germany",
         "Handball",
         "Germany",
         "Men"
        ],
        [
         "Hungary",
         "Handball",
         "Hungary",
         "Women"
        ],
        [
         "Japan",
         "Handball",
         "Japan",
         "Men"
        ],
        [
         "Japan",
         "Handball",
         "Japan",
         "Women"
        ],
        [
         "Montenegro",
         "Handball",
         "Montenegro",
         "Women"
        ],
        [
         "Netherlands",
         "Handball",
         "Netherlands",
         "Women"
        ],
        [
         "Norway",
         "Handball",
         "Norway",
         "Men"
        ],
        [
         "Norway",
         "Handball",
         "Norway",
         "Women"
        ],
        [
         "Portugal",
         "Handball",
         "Portugal",
         "Men"
        ],
        [
         "Republic of Korea",
         "Handball",
         "Republic of Korea",
         "Women"
        ],
        [
         "ROC",
         "Handball",
         "ROC",
         "Women"
        ],
        [
         "Spain",
         "Handball",
         "Spain",
         "Men"
        ],
        [
         "Spain",
         "Handball",
         "Spain",
         "Women"
        ],
        [
         "Sweden",
         "Handball",
         "Sweden",
         "Men"
        ],
        [
         "Sweden",
         "Handball",
         "Sweden",
         "Women"
        ],
        [
         "Argentina",
         "Hockey",
         "Argentina",
         "Men"
        ],
        [
         "Argentina",
         "Hockey",
         "Argentina",
         "Women"
        ],
        [
         "Australia",
         "Hockey",
         "Australia",
         "Men"
        ],
        [
         "Australia",
         "Hockey",
         "Australia",
         "Women"
        ],
        [
         "Belgium",
         "Hockey",
         "Belgium",
         "Men"
        ],
        [
         "Canada",
         "Hockey",
         "Canada",
         "Men"
        ],
        [
         "China",
         "Hockey",
         "People's Republic of China",
         "Women"
        ],
        [
         "Germany",
         "Hockey",
         "Germany",
         "Men"
        ],
        [
         "Germany",
         "Hockey",
         "Germany",
         "Women"
        ],
        [
         "Great Britain",
         "Hockey",
         "Great Britain",
         "Men"
        ],
        [
         "Great Britain",
         "Hockey",
         "Great Britain",
         "Women"
        ],
        [
         "India",
         "Hockey",
         "India",
         "Men"
        ],
        [
         "India",
         "Hockey",
         "India",
         "Women"
        ],
        [
         "Ireland",
         "Hockey",
         "Ireland",
         "Women"
        ],
        [
         "Japan",
         "Hockey",
         "Japan",
         "Men"
        ],
        [
         "Japan",
         "Hockey",
         "Japan",
         "Women"
        ],
        [
         "Netherlands",
         "Hockey",
         "Netherlands",
         "Men"
        ],
        [
         "Netherlands",
         "Hockey",
         "Netherlands",
         "Women"
        ],
        [
         "New Zealand",
         "Hockey",
         "New Zealand",
         "Men"
        ],
        [
         "New Zealand",
         "Hockey",
         "New Zealand",
         "Women"
        ],
        [
         "South Africa",
         "Hockey",
         "South Africa",
         "Men"
        ],
        [
         "South Africa",
         "Hockey",
         "South Africa",
         "Women"
        ],
        [
         "Spain",
         "Hockey",
         "Spain",
         "Men"
        ],
        [
         "Spain",
         "Hockey",
         "Spain",
         "Women"
        ],
        [
         "Australia",
         "Rhythmic Gymnastics",
         "Australia",
         "Group All-Around"
        ],
        [
         "Azerbaijan",
         "Rhythmic Gymnastics",
         "Azerbaijan",
         "Group All-Around"
        ],
        [
         "Belarus",
         "Rhythmic Gymnastics",
         "Belarus",
         "Group All-Around"
        ],
        [
         "Brazil",
         "Rhythmic Gymnastics",
         "Brazil",
         "Group All-Around"
        ],
        [
         "Bulgaria",
         "Rhythmic Gymnastics",
         "Bulgaria",
         "Group All-Around"
        ],
        [
         "China",
         "Rhythmic Gymnastics",
         "People's Republic of China",
         "Group All-Around"
        ],
        [
         "Egypt",
         "Rhythmic Gymnastics",
         "Egypt",
         "Group All-Around"
        ],
        [
         "Israel",
         "Rhythmic Gymnastics",
         "Israel",
         "Group All-Around"
        ],
        [
         "Italy",
         "Rhythmic Gymnastics",
         "Italy",
         "Group All-Around"
        ],
        [
         "Japan",
         "Rhythmic Gymnastics",
         "Japan",
         "Group All-Around"
        ],
        [
         "ROC",
         "Rhythmic Gymnastics",
         "ROC",
         "Group All-Around"
        ],
        [
         "Ukraine",
         "Rhythmic Gymnastics",
         "Ukraine",
         "Group All-Around"
        ],
        [
         "United States",
         "Rhythmic Gymnastics",
         "United States of America",
         "Group All-Around"
        ],
        [
         "Uzbekistan",
         "Rhythmic Gymnastics",
         "Uzbekistan",
         "Group All-Around"
        ],
        [
         "Argentina",
         "Rugby Sevens",
         "Argentina",
         "Men"
        ],
        [
         "Australia",
         "Rugby Sevens",
         "Australia",
         "Men"
        ],
        [
         "Australia",
         "Rugby Sevens",
         "Australia",
         "Women"
        ],
        [
         "Brazil",
         "Rugby Sevens",
         "Brazil",
         "Women"
        ],
        [
         "Canada",
         "Rugby Sevens",
         "Canada",
         "Men"
        ],
        [
         "Canada",
         "Rugby Sevens",
         "Canada",
         "Women"
        ],
        [
         "China",
         "Rugby Sevens",
         "People's Republic of China",
         "Women"
        ],
        [
         "Fiji",
         "Rugby Sevens",
         "Fiji",
         "Men"
        ],
        [
         "Fiji",
         "Rugby Sevens",
         "Fiji",
         "Women"
        ],
        [
         "France",
         "Rugby Sevens",
         "France",
         "Women"
        ],
        [
         "Great Britain",
         "Rugby Sevens",
         "Great Britain",
         "Men"
        ],
        [
         "Great Britain",
         "Rugby Sevens",
         "Great Britain",
         "Women"
        ],
        [
         "Ireland",
         "Rugby Sevens",
         "Ireland",
         "Men"
        ],
        [
         "Japan",
         "Rugby Sevens",
         "Japan",
         "Men"
        ],
        [
         "Japan",
         "Rugby Sevens",
         "Japan",
         "Women"
        ],
        [
         "Kenya",
         "Rugby Sevens",
         "Kenya",
         "Men"
        ],
        [
         "Kenya",
         "Rugby Sevens",
         "Kenya",
         "Women"
        ],
        [
         "New Zealand",
         "Rugby Sevens",
         "New Zealand",
         "Men"
        ],
        [
         "New Zealand",
         "Rugby Sevens",
         "New Zealand",
         "Women"
        ],
        [
         "Republic of Korea",
         "Rugby Sevens",
         "Republic of Korea",
         "Men"
        ],
        [
         "ROC",
         "Rugby Sevens",
         "ROC",
         "Women"
        ],
        [
         "South Africa",
         "Rugby Sevens",
         "South Africa",
         "Men"
        ],
        [
         "United States",
         "Rugby Sevens",
         "United States of America",
         "Men"
        ],
        [
         "United States",
         "Rugby Sevens",
         "United States of America",
         "Women"
        ],
        [
         "Australia",
         "Swimming",
         "Australia",
         "Men's 4 x 100m Freestyle Relay"
        ],
        [
         "Australia",
         "Swimming",
         "Australia",
         "Men's 4 x 100m Medley Relay"
        ],
        [
         "Australia",
         "Swimming",
         "Australia",
         "Men's 4 x 200m Freestyle Relay"
        ],
        [
         "Australia",
         "Swimming",
         "Australia",
         "Mixed 4 x 100m Medley Relay"
        ],
        [
         "Australia",
         "Swimming",
         "Australia",
         "Women's 4 x 100m Freestyle Relay"
        ],
        [
         "Australia",
         "Swimming",
         "Australia",
         "Women's 4 x 100m Medley Relay"
        ],
        [
         "Australia",
         "Swimming",
         "Australia",
         "Women's 4 x 200m Freestyle Relay"
        ],
        [
         "Belarus",
         "Swimming",
         "Belarus",
         "Men's 4 x 100m Medley Relay"
        ],
        [
         "Belarus",
         "Swimming",
         "Belarus",
         "Mixed 4 x 100m Medley Relay"
        ],
        [
         "Belarus",
         "Swimming",
         "Belarus",
         "Women's 4 x 100m Medley Relay"
        ],
        [
         "Brazil",
         "Swimming",
         "Brazil",
         "Men's 4 x 100m Freestyle Relay"
        ],
        [
         "Brazil",
         "Swimming",
         "Brazil",
         "Men's 4 x 100m Medley Relay"
        ],
        [
         "Brazil",
         "Swimming",
         "Brazil",
         "Men's 4 x 200m Freestyle Relay"
        ],
        [
         "Brazil",
         "Swimming",
         "Brazil",
         "Mixed 4 x 100m Medley Relay"
        ],
        [
         "Brazil",
         "Swimming",
         "Brazil",
         "Women's 4 x 100m Freestyle Relay"
        ],
        [
         "Brazil",
         "Swimming",
         "Brazil",
         "Women's 4 x 200m Freestyle Relay"
        ],
        [
         "Canada",
         "Swimming",
         "Canada",
         "Men's 4 x 100m Freestyle Relay"
        ],
        [
         "Canada",
         "Swimming",
         "Canada",
         "Men's 4 x 100m Medley Relay"
        ],
        [
         "Canada",
         "Swimming",
         "Canada",
         "Mixed 4 x 100m Medley Relay"
        ],
        [
         "Canada",
         "Swimming",
         "Canada",
         "Women's 4 x 100m Freestyle Relay"
        ],
        [
         "Canada",
         "Swimming",
         "Canada",
         "Women's 4 x 100m Medley Relay"
        ],
        [
         "Canada",
         "Swimming",
         "Canada",
         "Women's 4 x 200m Freestyle Relay"
        ],
        [
         "China",
         "Swimming",
         "People's Republic of China",
         "Men's 4 x 100m Medley Relay"
        ],
        [
         "China",
         "Swimming",
         "People's Republic of China",
         "Men's 4 x 200m Freestyle Relay"
        ],
        [
         "China",
         "Swimming",
         "People's Republic of China",
         "Mixed 4 x 100m Medley Relay"
        ],
        [
         "China",
         "Swimming",
         "People's Republic of China",
         "Women's 4 x 100m Freestyle Relay"
        ],
        [
         "China",
         "Swimming",
         "People's Republic of China",
         "Women's 4 x 100m Medley Relay"
        ],
        [
         "China",
         "Swimming",
         "People's Republic of China",
         "Women's 4 x 200m Freestyle Relay"
        ],
        [
         "Czech Republic",
         "Swimming",
         "Czech Republic",
         "Women's 4 x 100m Freestyle Relay"
        ],
        [
         "Denmark",
         "Swimming",
         "Denmark",
         "Women's 4 x 100m Freestyle Relay"
        ],
        [
         "Denmark",
         "Swimming",
         "Denmark",
         "Women's 4 x 100m Medley Relay"
        ],
        [
         "France",
         "Swimming",
         "France",
         "Men's 4 x 100m Freestyle Relay"
        ],
        [
         "France",
         "Swimming",
         "France",
         "Men's 4 x 100m Medley Relay"
        ],
        [
         "France",
         "Swimming",
         "France",
         "Men's 4 x 200m Freestyle Relay"
        ],
        [
         "France",
         "Swimming",
         "France",
         "Women's 4 x 100m Freestyle Relay"
        ],
        [
         "France",
         "Swimming",
         "France",
         "Women's 4 x 200m Freestyle Relay"
        ],
        [
         "Germany",
         "Swimming",
         "Germany",
         "Men's 4 x 100m Freestyle Relay"
        ],
        [
         "Germany",
         "Swimming",
         "Germany",
         "Men's 4 x 100m Medley Relay"
        ],
        [
         "Germany",
         "Swimming",
         "Germany",
         "Men's 4 x 200m Freestyle Relay"
        ],
        [
         "Germany",
         "Swimming",
         "Germany",
         "Mixed 4 x 100m Medley Relay"
        ],
        [
         "Germany",
         "Swimming",
         "Germany",
         "Women's 4 x 100m Freestyle Relay"
        ],
        [
         "Germany",
         "Swimming",
         "Germany",
         "Women's 4 x 100m Medley Relay"
        ],
        [
         "Germany",
         "Swimming",
         "Germany",
         "Women's 4 x 200m Freestyle Relay"
        ],
        [
         "Great Britain",
         "Swimming",
         "Great Britain",
         "Men's 4 x 100m Freestyle Relay"
        ],
        [
         "Great Britain",
         "Swimming",
         "Great Britain",
         "Men's 4 x 100m Medley Relay"
        ],
        [
         "Great Britain",
         "Swimming",
         "Great Britain",
         "Men's 4 x 200m Freestyle Relay"
        ],
        [
         "Great Britain",
         "Swimming",
         "Great Britain",
         "Mixed 4 x 100m Medley Relay"
        ],
        [
         "Great Britain",
         "Swimming",
         "Great Britain",
         "Women's 4 x 100m Freestyle Relay"
        ],
        [
         "Great Britain",
         "Swimming",
         "Great Britain",
         "Women's 4 x 100m Medley Relay"
        ],
        [
         "Greece",
         "Swimming",
         "Greece",
         "Men's 4 x 100m Freestyle Relay"
        ],
        [
         "Greece",
         "Swimming",
         "Greece",
         "Men's 4 x 100m Medley Relay"
        ],
        [
         "Greece",
         "Swimming",
         "Greece",
         "Mixed 4 x 100m Medley Relay"
        ],
        [
         "Hong Kong, China",
         "Swimming",
         "Hong Kong, China",
         "Women's 4 x 100m Freestyle Relay"
        ],
        [
         "Hong Kong, China",
         "Swimming",
         "Hong Kong, China",
         "Women's 4 x 100m Medley Relay"
        ],
        [
         "Hong Kong, China",
         "Swimming",
         "Hong Kong, China",
         "Women's 4 x 200m Freestyle Relay"
        ],
        [
         "Hungary",
         "Swimming",
         "Hungary",
         "Men's 4 x 100m Freestyle Relay"
        ],
        [
         "Hungary",
         "Swimming",
         "Hungary",
         "Men's 4 x 100m Medley Relay"
        ],
        [
         "Hungary",
         "Swimming",
         "Hungary",
         "Men's 4 x 200m Freestyle Relay"
        ],
        [
         "Hungary",
         "Swimming",
         "Hungary",
         "Mixed 4 x 100m Medley Relay"
        ],
        [
         "Hungary",
         "Swimming",
         "Hungary",
         "Women's 4 x 200m Freestyle Relay"
        ],
        [
         "Ireland",
         "Swimming",
         "Ireland",
         "Men's 4 x 200m Freestyle Relay"
        ],
        [
         "Israel",
         "Swimming",
         "Israel",
         "Men's 4 x 200m Freestyle Relay"
        ],
        [
         "Israel",
         "Swimming",
         "Israel",
         "Mixed 4 x 100m Medley Relay"
        ],
        [
         "Italy",
         "Swimming",
         "Italy",
         "Men's 4 x 100m Freestyle Relay"
        ],
        [
         "Italy",
         "Swimming",
         "Italy",
         "Men's 4 x 100m Medley Relay"
        ],
        [
         "Italy",
         "Swimming",
         "Italy",
         "Men's 4 x 200m Freestyle Relay"
        ],
        [
         "Italy",
         "Swimming",
         "Italy",
         "Mixed 4 x 100m Medley Relay"
        ],
        [
         "Italy",
         "Swimming",
         "Italy",
         "Women's 4 x 100m Medley Relay"
        ],
        [
         "Italy",
         "Swimming",
         "Italy",
         "Women's 4 x 200m Freestyle Relay"
        ],
        [
         "Japan",
         "Swimming",
         "Japan",
         "Men's 4 x 100m Freestyle Relay"
        ],
        [
         "Japan",
         "Swimming",
         "Japan",
         "Men's 4 x 100m Medley Relay"
        ],
        [
         "Japan",
         "Swimming",
         "Japan",
         "Men's 4 x 200m Freestyle Relay"
        ],
        [
         "Japan",
         "Swimming",
         "Japan",
         "Mixed 4 x 100m Medley Relay"
        ],
        [
         "Japan",
         "Swimming",
         "Japan",
         "Women's 4 x 100m Freestyle Relay"
        ],
        [
         "Japan",
         "Swimming",
         "Japan",
         "Women's 4 x 100m Medley Relay"
        ],
        [
         "Japan",
         "Swimming",
         "Japan",
         "Women's 4 x 200m Freestyle Relay"
        ],
        [
         "Lithuania",
         "Swimming",
         "Lithuania",
         "Men's 4 x 100m Medley Relay"
        ],
        [
         "Netherlands",
         "Swimming",
         "Netherlands",
         "Men's 4 x 100m Freestyle Relay"
        ],
        [
         "Netherlands",
         "Swimming",
         "Netherlands",
         "Mixed 4 x 100m Medley Relay"
        ],
        [
         "Netherlands",
         "Swimming",
         "Netherlands",
         "Women's 4 x 100m Freestyle Relay"
        ],
        [
         "Netherlands",
         "Swimming",
         "Netherlands",
         "Women's 4 x 100m Medley Relay"
        ],
        [
         "New Zealand",
         "Swimming",
         "New Zealand",
         "Women's 4 x 200m Freestyle Relay"
        ],
        [
         "Poland",
         "Swimming",
         "Poland",
         "Men's 4 x 100m Freestyle Relay"
        ],
        [
         "Poland",
         "Swimming",
         "Poland",
         "Men's 4 x 100m Medley Relay"
        ],
        [
         "Poland",
         "Swimming",
         "Poland",
         "Men's 4 x 200m Freestyle Relay"
        ],
        [
         "Poland",
         "Swimming",
         "Poland",
         "Mixed 4 x 100m Medley Relay"
        ],
        [
         "Poland",
         "Swimming",
         "Poland",
         "Women's 4 x 100m Freestyle Relay"
        ],
        [
         "Poland",
         "Swimming",
         "Poland",
         "Women's 4 x 200m Freestyle Relay"
        ],
        [
         "Republic of Korea",
         "Swimming",
         "Republic of Korea",
         "Men's 4 x 200m Freestyle Relay"
        ],
        [
         "Republic of Korea",
         "Swimming",
         "Republic of Korea",
         "Women's 4 x 200m Freestyle Relay"
        ],
        [
         "ROC",
         "Swimming",
         "ROC",
         "Men's 4 x 100m Freestyle Relay"
        ],
        [
         "ROC",
         "Swimming",
         "ROC",
         "Men's 4 x 100m Medley Relay"
        ],
        [
         "ROC",
         "Swimming",
         "ROC",
         "Men's 4 x 200m Freestyle Relay"
        ],
        [
         "ROC",
         "Swimming",
         "ROC",
         "Mixed 4 x 100m Medley Relay"
        ],
        [
         "ROC",
         "Swimming",
         "ROC",
         "Women's 4 x 100m Freestyle Relay"
        ],
        [
         "ROC",
         "Swimming",
         "ROC",
         "Women's 4 x 100m Medley Relay"
        ],
        [
         "ROC",
         "Swimming",
         "ROC",
         "Women's 4 x 200m Freestyle Relay"
        ],
        [
         "Serbia",
         "Swimming",
         "Serbia",
         "Men's 4 x 100m Freestyle Relay"
        ],
        [
         "South Africa",
         "Swimming",
         "South Africa",
         "Women's 4 x 100m Medley Relay"
        ],
        [
         "South Africa",
         "Swimming",
         "South Africa",
         "Women's 4 x 200m Freestyle Relay"
        ],
        [
         "Spain",
         "Swimming",
         "Spain",
         "Women's 4 x 100m Medley Relay"
        ],
        [
         "Sweden",
         "Swimming",
         "Sweden",
         "Women's 4 x 100m Freestyle Relay"
        ],
        [
         "Sweden",
         "Swimming",
         "Sweden",
         "Women's 4 x 100m Medley Relay"
        ],
        [
         "Switzerland",
         "Swimming",
         "Switzerland",
         "Men's 4 x 100m Freestyle Relay"
        ],
        [
         "Switzerland",
         "Swimming",
         "Switzerland",
         "Men's 4 x 200m Freestyle Relay"
        ],
        [
         "Turkey",
         "Swimming",
         "Turkey",
         "Women's 4 x 200m Freestyle Relay"
        ],
        [
         "United States",
         "Swimming",
         "United States of America",
         "Men's 4 x 100m Freestyle Relay"
        ],
        [
         "United States",
         "Swimming",
         "United States of America",
         "Men's 4 x 100m Medley Relay"
        ],
        [
         "United States",
         "Swimming",
         "United States of America",
         "Men's 4 x 200m Freestyle Relay"
        ],
        [
         "United States",
         "Swimming",
         "United States of America",
         "Mixed 4 x 100m Medley Relay"
        ],
        [
         "United States",
         "Swimming",
         "United States of America",
         "Women's 4 x 100m Freestyle Relay"
        ],
        [
         "United States",
         "Swimming",
         "United States of America",
         "Women's 4 x 100m Medley Relay"
        ],
        [
         "United States",
         "Swimming",
         "United States of America",
         "Women's 4 x 200m Freestyle Relay"
        ],
        [
         "Australia",
         "Table Tennis",
         "Australia",
         "Men's Team"
        ],
        [
         "HU Heming / TAPPER Melissa",
         "Table Tennis",
         "Australia",
         "Mixed Doubles"
        ],
        [
         "Australia",
         "Table Tennis",
         "Australia",
         "Women's Team"
        ],
        [
         "FEGERL Stefan / POLCANOVA Sofia",
         "Table Tennis",
         "Austria",
         "Mixed Doubles"
        ],
        [
         "Austria",
         "Table Tennis",
         "Austria",
         "Women's Team"
        ],
        [
         "Brazil",
         "Table Tennis",
         "Brazil",
         "Men's Team"
        ],
        [
         "Brazil",
         "Table Tennis",
         "Brazil",
         "Women's Team"
        ],
        [
         "WANG Zhen / ZHANG Mo",
         "Table Tennis",
         "Canada",
         "Mixed Doubles"
        ],
        [
         "China",
         "Table Tennis",
         "People's Republic of China",
         "Men's Team"
        ],
        [
         "XU Xin / LIU Shiwen",
         "Table Tennis",
         "People's Republic of China",
         "Mixed Doubles"
        ],
        [
         "China",
         "Table Tennis",
         "People's Republic of China",
         "Women's Team"
        ],
        [
         "Chinese Taipei",
         "Table Tennis",
         "Chinese Taipei",
         "Men's Team"
        ],
        [
         "LIN Yun Ju / CHENG I Ching",
         "Table Tennis",
         "Chinese Taipei",
         "Mixed Doubles"
        ],
        [
         "Chinese Taipei",
         "Table Tennis",
         "Chinese Taipei",
         "Women's Team"
        ],
        [
         "Croatia",
         "Table Tennis",
         "Croatia",
         "Men's Team"
        ],
        [
         "CAMPOS Jorge / FONSECA Daniela",
         "Table Tennis",
         "Cuba",
         "Mixed Doubles"
        ],
        [
         "Egypt",
         "Table Tennis",
         "Egypt",
         "Men's Team"
        ],
        [
         "ASSAR Omar / MESHREF Dina",
         "Table Tennis",
         "Egypt",
         "Mixed Doubles"
        ],
        [
         "Egypt",
         "Table Tennis",
         "Egypt",
         "Women's Team"
        ],
        [
         "France",
         "Table Tennis",
         "France",
         "Men's Team"
        ],
        [
         "LEBESSON Emmanuel / YUAN Jia Nan",
         "Table Tennis",
         "France",
         "Mixed Doubles"
        ],
        [
         "France",
         "Table Tennis",
         "France",
         "Women's Team"
        ],
        [
         "Germany",
         "Table Tennis",
         "Germany",
         "Men's Team"
        ],
        [
         "FRANZISKA Patrick / SOLJA Petrissa",
         "Table Tennis",
         "Germany",
         "Mixed Doubles"
        ],
        [
         "Germany",
         "Table Tennis",
         "Germany",
         "Women's Team"
        ],
        [
         "Hong Kong, China",
         "Table Tennis",
         "Hong Kong, China",
         "Men's Team"
        ],
        [
         "WONG Chun Ting / DOO Hoi Kem",
         "Table Tennis",
         "Hong Kong, China",
         "Mixed Doubles"
        ],
        [
         "Hong Kong, China",
         "Table Tennis",
         "Hong Kong, China",
         "Women's Team"
        ],
        [
         "SZUDI Adam / PERGEL Szandra",
         "Table Tennis",
         "Hungary",
         "Mixed Doubles"
        ],
        [
         "Hungary",
         "Table Tennis",
         "Hungary",
         "Women's Team"
        ],
        [
         "ACHANTA Kamal / BATRA Manika",
         "Table Tennis",
         "India",
         "Mixed Doubles"
        ],
        [
         "Japan",
         "Table Tennis",
         "Japan",
         "Men's Team"
        ],
        [
         "MIZUTANI Jun / ITO Mima",
         "Table Tennis",
         "Japan",
         "Mixed Doubles"
        ],
        [
         "Japan",
         "Table Tennis",
         "Japan",
         "Women's Team"
        ],
        [
         "Poland",
         "Table Tennis",
         "Poland",
         "Women's Team"
        ],
        [
         "Portugal",
         "Table Tennis",
         "Portugal",
         "Men's Team"
        ],
        [
         "Republic of Korea",
         "Table Tennis",
         "Republic of Korea",
         "Men's Team"
        ],
        [
         "LEE Sangsu / JEON Jihee",
         "Table Tennis",
         "Republic of Korea",
         "Mixed Doubles"
        ],
        [
         "Republic of Korea",
         "Table Tennis",
         "Republic of Korea",
         "Women's Team"
        ],
        [
         "IONESCU Ovidiu / SZOCS Bernadette",
         "Table Tennis",
         "Romania",
         "Mixed Doubles"
        ],
        [
         "Romania",
         "Table Tennis",
         "Romania",
         "Women's Team"
        ],
        [
         "Serbia",
         "Table Tennis",
         "Serbia",
         "Men's Team"
        ],
        [
         "Singapore",
         "Table Tennis",
         "Singapore",
         "Women's Team"
        ],
        [
         "PISTEJ Lubomir / BALAZOVA Barbora",
         "Table Tennis",
         "Slovakia",
         "Mixed Doubles"
        ],
        [
         "Slovenia",
         "Table Tennis",
         "Slovenia",
         "Men's Team"
        ],
        [
         "Sweden",
         "Table Tennis",
         "Sweden",
         "Men's Team"
        ],
        [
         "United States",
         "Table Tennis",
         "United States of America",
         "Men's Team"
        ],
        [
         "United States",
         "Table Tennis",
         "United States of America",
         "Women's Team"
        ],
        [
         "Australia",
         "Triathlon",
         "Australia",
         "Mixed Relay"
        ],
        [
         "Austria",
         "Triathlon",
         "Austria",
         "Mixed Relay"
        ],
        [
         "Belgium",
         "Triathlon",
         "Belgium",
         "Mixed Relay"
        ],
        [
         "Canada",
         "Triathlon",
         "Canada",
         "Mixed Relay"
        ],
        [
         "France",
         "Triathlon",
         "France",
         "Mixed Relay"
        ],
        [
         "Germany",
         "Triathlon",
         "Germany",
         "Mixed Relay"
        ],
        [
         "Great Britain",
         "Triathlon",
         "Great Britain",
         "Mixed Relay"
        ],
        [
         "Hungary",
         "Triathlon",
         "Hungary",
         "Mixed Relay"
        ],
        [
         "Italy",
         "Triathlon",
         "Italy",
         "Mixed Relay"
        ],
        [
         "Japan",
         "Triathlon",
         "Japan",
         "Mixed Relay"
        ],
        [
         "Mexico",
         "Triathlon",
         "Mexico",
         "Mixed Relay"
        ],
        [
         "Netherlands",
         "Triathlon",
         "Netherlands",
         "Mixed Relay"
        ],
        [
         "New Zealand",
         "Triathlon",
         "New Zealand",
         "Mixed Relay"
        ],
        [
         "ROC",
         "Triathlon",
         "ROC",
         "Mixed Relay"
        ],
        [
         "South Africa",
         "Triathlon",
         "South Africa",
         "Mixed Relay"
        ],
        [
         "Spain",
         "Triathlon",
         "Spain",
         "Mixed Relay"
        ],
        [
         "Switzerland",
         "Triathlon",
         "Switzerland",
         "Mixed Relay"
        ],
        [
         "United States",
         "Triathlon",
         "United States of America",
         "Mixed Relay"
        ],
        [
         "Argentina",
         "Volleyball",
         "Argentina",
         "Men"
        ],
        [
         "Argentina",
         "Volleyball",
         "Argentina",
         "Women"
        ],
        [
         "Brazil",
         "Volleyball",
         "Brazil",
         "Men"
        ],
        [
         "Brazil",
         "Volleyball",
         "Brazil",
         "Women"
        ],
        [
         "Canada",
         "Volleyball",
         "Canada",
         "Men"
        ],
        [
         "China",
         "Volleyball",
         "People's Republic of China",
         "Women"
        ],
        [
         "Dominican Rep.",
         "Volleyball",
         "Dominican Republic",
         "Women"
        ],
        [
         "France",
         "Volleyball",
         "France",
         "Men"
        ],
        [
         "Islamic Rep. of Iran",
         "Volleyball",
         "Islamic Republic of Iran",
         "Men"
        ],
        [
         "Italy",
         "Volleyball",
         "Italy",
         "Men"
        ],
        [
         "Italy",
         "Volleyball",
         "Italy",
         "Women"
        ],
        [
         "Japan",
         "Volleyball",
         "Japan",
         "Men"
        ],
        [
         "Japan",
         "Volleyball",
         "Japan",
         "Women"
        ],
        [
         "Kenya",
         "Volleyball",
         "Kenya",
         "Women"
        ],
        [
         "Poland",
         "Volleyball",
         "Poland",
         "Men"
        ],
        [
         "Republic of Korea",
         "Volleyball",
         "Republic of Korea",
         "Women"
        ],
        [
         "ROC",
         "Volleyball",
         "ROC",
         "Men"
        ],
        [
         "ROC",
         "Volleyball",
         "ROC",
         "Women"
        ],
        [
         "Serbia",
         "Volleyball",
         "Serbia",
         "Women"
        ],
        [
         "Tunisia",
         "Volleyball",
         "Tunisia",
         "Men"
        ],
        [
         "Turkey",
         "Volleyball",
         "Turkey",
         "Women"
        ],
        [
         "United States",
         "Volleyball",
         "United States of America",
         "Men"
        ],
        [
         "United States",
         "Volleyball",
         "United States of America",
         "Women"
        ],
        [
         "Venezuela",
         "Volleyball",
         "Venezuela",
         "Men"
        ],
        [
         "Australia",
         "Water Polo",
         "Australia",
         "Men"
        ],
        [
         "Australia",
         "Water Polo",
         "Australia",
         "Women"
        ],
        [
         "Canada",
         "Water Polo",
         "Canada",
         "Women"
        ],
        [
         "China",
         "Water Polo",
         "People's Republic of China",
         "Women"
        ],
        [
         "Croatia",
         "Water Polo",
         "Croatia",
         "Men"
        ],
        [
         "Greece",
         "Water Polo",
         "Greece",
         "Men"
        ],
        [
         "Hungary",
         "Water Polo",
         "Hungary",
         "Men"
        ],
        [
         "Hungary",
         "Water Polo",
         "Hungary",
         "Women"
        ],
        [
         "Italy",
         "Water Polo",
         "Italy",
         "Men"
        ],
        [
         "Japan",
         "Water Polo",
         "Japan",
         "Men"
        ],
        [
         "Japan",
         "Water Polo",
         "Japan",
         "Women"
        ],
        [
         "Kazakhstan",
         "Water Polo",
         "Kazakhstan",
         "Men"
        ],
        [
         "Montenegro",
         "Water Polo",
         "Montenegro",
         "Men"
        ],
        [
         "Netherlands",
         "Water Polo",
         "Netherlands",
         "Women"
        ],
        [
         "ROC",
         "Water Polo",
         "ROC",
         "Women"
        ],
        [
         "Serbia",
         "Water Polo",
         "Serbia",
         "Men"
        ],
        [
         "South Africa",
         "Water Polo",
         "South Africa",
         "Men"
        ],
        [
         "South Africa",
         "Water Polo",
         "South Africa",
         "Women"
        ],
        [
         "Spain",
         "Water Polo",
         "Spain",
         "Men"
        ],
        [
         "Spain",
         "Water Polo",
         "Spain",
         "Women"
        ],
        [
         "United States",
         "Water Polo",
         "United States of America",
         "Men"
        ],
        [
         "United States",
         "Water Polo",
         "United States of America",
         "Women"
        ]
       ],
       "datasetInfos": [],
       "dbfsResultPath": null,
       "isJsonSchema": true,
       "metadata": {},
       "overflow": false,
       "plotOptions": {
        "customPlotOptions": {},
        "displayType": "table",
        "pivotAggregation": null,
        "pivotColumns": null,
        "xColumns": null,
        "yColumns": null
       },
       "removedWidgets": [],
       "schema": [
        {
         "metadata": "{}",
         "name": "TeamName",
         "type": "\"string\""
        },
        {
         "metadata": "{}",
         "name": "Discipline",
         "type": "\"string\""
        },
        {
         "metadata": "{}",
         "name": "Country",
         "type": "\"string\""
        },
        {
         "metadata": "{}",
         "name": "Event",
         "type": "\"string\""
        }
       ],
       "type": "table"
      }
     },
     "output_type": "display_data"
    }
   ],
   "source": [
    "teams.display()"
   ]
  },
  {
   "cell_type": "code",
   "execution_count": 0,
   "metadata": {
    "application/vnd.databricks.v1+cell": {
     "cellMetadata": {
      "byteLimit": 2048000,
      "rowLimit": 10000
     },
     "inputWidgets": {},
     "nuid": "1ae2fff1-139d-4384-807c-52d9b5bd6a1e",
     "showTitle": false,
     "tableResultSettingsMap": {},
     "title": ""
    }
   },
   "outputs": [
    {
     "name": "stdout",
     "output_type": "stream",
     "text": [
      "root\n",
      " |-- TeamName: string (nullable = true)\n",
      " |-- Discipline: string (nullable = true)\n",
      " |-- Country: string (nullable = true)\n",
      " |-- Event: string (nullable = true)\n",
      "\n"
     ]
    }
   ],
   "source": [
    "teams.printSchema()"
   ]
  },
  {
   "cell_type": "code",
   "execution_count": 0,
   "metadata": {
    "application/vnd.databricks.v1+cell": {
     "cellMetadata": {
      "byteLimit": 2048000,
      "rowLimit": 10000
     },
     "inputWidgets": {},
     "nuid": "720cab82-431b-44f2-9149-8f0a7b9dc6ba",
     "showTitle": false,
     "tableResultSettingsMap": {},
     "title": ""
    }
   },
   "outputs": [
    {
     "name": "stdout",
     "output_type": "stream",
     "text": [
      "+--------------------+------+----+-----+\n",
      "|          Discipline|Female|Male|Total|\n",
      "+--------------------+------+----+-----+\n",
      "|      3x3 Basketball|    32|  32|   64|\n",
      "|             Archery|    64|  64|  128|\n",
      "| Artistic Gymnastics|    98|  98|  196|\n",
      "|   Artistic Swimming|   105|   0|  105|\n",
      "|           Athletics|   969|1072| 2041|\n",
      "|           Badminton|    86|  87|  173|\n",
      "|   Baseball/Softball|    90| 144|  234|\n",
      "|          Basketball|   144| 144|  288|\n",
      "|    Beach Volleyball|    48|  48|   96|\n",
      "|              Boxing|   102| 187|  289|\n",
      "|        Canoe Slalom|    41|  41|   82|\n",
      "|        Canoe Sprint|   123| 126|  249|\n",
      "|Cycling BMX Frees...|    10|   9|   19|\n",
      "|  Cycling BMX Racing|    24|  24|   48|\n",
      "|Cycling Mountain ...|    38|  38|   76|\n",
      "|        Cycling Road|    70| 131|  201|\n",
      "|       Cycling Track|    90|  99|  189|\n",
      "|              Diving|    72|  71|  143|\n",
      "|          Equestrian|    73| 125|  198|\n",
      "|             Fencing|   107| 108|  215|\n",
      "+--------------------+------+----+-----+\n",
      "only showing top 20 rows\n"
     ]
    }
   ],
   "source": [
    "entries_gender.show()\n"
   ]
  },
  {
   "cell_type": "code",
   "execution_count": 0,
   "metadata": {
    "application/vnd.databricks.v1+cell": {
     "cellMetadata": {
      "byteLimit": 2048000,
      "rowLimit": 10000
     },
     "inputWidgets": {},
     "nuid": "b87c2a19-d029-430f-8fed-8f7cb793c59c",
     "showTitle": false,
     "tableResultSettingsMap": {},
     "title": ""
    }
   },
   "outputs": [],
   "source": [
    "entries_gender = entries_gender.withColumn(\"Female\",col(\"Female\").cast(IntegerType()))\\\n",
    "    .withColumn(\"Male\",col(\"Male\").cast(IntegerType()))\\\n",
    "    .withColumn(\"Total\",col(\"Total\").cast(IntegerType()))"
   ]
  },
  {
   "cell_type": "code",
   "execution_count": 0,
   "metadata": {
    "application/vnd.databricks.v1+cell": {
     "cellMetadata": {
      "byteLimit": 2048000,
      "rowLimit": 10000
     },
     "inputWidgets": {},
     "nuid": "f890e07d-f304-4f48-a1c3-32c740498d01",
     "showTitle": false,
     "tableResultSettingsMap": {},
     "title": ""
    }
   },
   "outputs": [
    {
     "name": "stdout",
     "output_type": "stream",
     "text": [
      "root\n",
      " |-- Discipline: string (nullable = true)\n",
      " |-- Female: integer (nullable = true)\n",
      " |-- Male: integer (nullable = true)\n",
      " |-- Total: integer (nullable = true)\n",
      "\n"
     ]
    }
   ],
   "source": [
    "entries_gender.printSchema()\n"
   ]
  },
  {
   "cell_type": "code",
   "execution_count": 0,
   "metadata": {
    "application/vnd.databricks.v1+cell": {
     "cellMetadata": {
      "byteLimit": 2048000,
      "rowLimit": 10000
     },
     "inputWidgets": {},
     "nuid": "1e5d60ed-daa3-4f36-a65f-3b9012f86fd5",
     "showTitle": false,
     "tableResultSettingsMap": {},
     "title": ""
    }
   },
   "outputs": [
    {
     "name": "stdout",
     "output_type": "stream",
     "text": [
      "+----+--------------------+----+------+------+-----+-------------+\n",
      "|Rank|         TeamCountry|Gold|Silver|Bronze|Total|Rank by Total|\n",
      "+----+--------------------+----+------+------+-----+-------------+\n",
      "|   1|United States of ...|  39|    41|    33|  113|            1|\n",
      "|   2|People's Republic...|  38|    32|    18|   88|            2|\n",
      "|   3|               Japan|  27|    14|    17|   58|            5|\n",
      "|   4|       Great Britain|  22|    21|    22|   65|            4|\n",
      "|   5|                 ROC|  20|    28|    23|   71|            3|\n",
      "|   6|           Australia|  17|     7|    22|   46|            6|\n",
      "|   7|         Netherlands|  10|    12|    14|   36|            9|\n",
      "|   8|              France|  10|    12|    11|   33|           10|\n",
      "|   9|             Germany|  10|    11|    16|   37|            8|\n",
      "|  10|               Italy|  10|    10|    20|   40|            7|\n",
      "|  11|              Canada|   7|     6|    11|   24|           11|\n",
      "|  12|              Brazil|   7|     6|     8|   21|           12|\n",
      "|  13|         New Zealand|   7|     6|     7|   20|           13|\n",
      "|  14|                Cuba|   7|     3|     5|   15|           18|\n",
      "|  15|             Hungary|   6|     7|     7|   20|           13|\n",
      "|  16|   Republic of Korea|   6|     4|    10|   20|           13|\n",
      "|  17|              Poland|   4|     5|     5|   14|           19|\n",
      "|  18|      Czech Republic|   4|     4|     3|   11|           23|\n",
      "|  19|               Kenya|   4|     4|     2|   10|           25|\n",
      "|  20|              Norway|   4|     2|     2|    8|           29|\n",
      "+----+--------------------+----+------+------+-----+-------------+\n",
      "only showing top 20 rows\n"
     ]
    }
   ],
   "source": [
    "medals.show()"
   ]
  },
  {
   "cell_type": "code",
   "execution_count": 0,
   "metadata": {
    "application/vnd.databricks.v1+cell": {
     "cellMetadata": {
      "byteLimit": 2048000,
      "rowLimit": 10000
     },
     "inputWidgets": {},
     "nuid": "e4dc8ecb-6063-4712-aac9-8ff8329fe54e",
     "showTitle": false,
     "tableResultSettingsMap": {},
     "title": ""
    }
   },
   "outputs": [
    {
     "name": "stdout",
     "output_type": "stream",
     "text": [
      "root\n",
      " |-- Rank: string (nullable = true)\n",
      " |-- TeamCountry: string (nullable = true)\n",
      " |-- Gold: string (nullable = true)\n",
      " |-- Silver: string (nullable = true)\n",
      " |-- Bronze: string (nullable = true)\n",
      " |-- Total: string (nullable = true)\n",
      " |-- Rank by Total: string (nullable = true)\n",
      "\n"
     ]
    }
   ],
   "source": [
    "medals.printSchema()"
   ]
  },
  {
   "cell_type": "code",
   "execution_count": 0,
   "metadata": {
    "application/vnd.databricks.v1+cell": {
     "cellMetadata": {
      "byteLimit": 2048000,
      "rowLimit": 10000
     },
     "inputWidgets": {},
     "nuid": "42ebb487-eaf2-4647-a74c-1c7ca72bfad9",
     "showTitle": false,
     "tableResultSettingsMap": {},
     "title": ""
    }
   },
   "outputs": [
    {
     "name": "stdout",
     "output_type": "stream",
     "text": [
      "+-------------+--------------+--------------------+------------+\n",
      "|     TeamName|    Discipline|             Country|       Event|\n",
      "+-------------+--------------+--------------------+------------+\n",
      "|      Belgium|3x3 Basketball|             Belgium|         Men|\n",
      "|        China|3x3 Basketball|People's Republic...|         Men|\n",
      "|        China|3x3 Basketball|People's Republic...|       Women|\n",
      "|       France|3x3 Basketball|              France|       Women|\n",
      "|        Italy|3x3 Basketball|               Italy|       Women|\n",
      "|        Japan|3x3 Basketball|               Japan|         Men|\n",
      "|        Japan|3x3 Basketball|               Japan|       Women|\n",
      "|       Latvia|3x3 Basketball|              Latvia|         Men|\n",
      "|     Mongolia|3x3 Basketball|            Mongolia|       Women|\n",
      "|  Netherlands|3x3 Basketball|         Netherlands|         Men|\n",
      "|       Poland|3x3 Basketball|              Poland|         Men|\n",
      "|          ROC|3x3 Basketball|                 ROC|         Men|\n",
      "|          ROC|3x3 Basketball|                 ROC|       Women|\n",
      "|      Romania|3x3 Basketball|             Romania|       Women|\n",
      "|       Serbia|3x3 Basketball|              Serbia|         Men|\n",
      "|United States|3x3 Basketball|United States of ...|       Women|\n",
      "|    Australia|       Archery|           Australia|  Men's Team|\n",
      "|    Australia|       Archery|           Australia|  Mixed Team|\n",
      "|   Bangladesh|       Archery|          Bangladesh|  Mixed Team|\n",
      "|      Belarus|       Archery|             Belarus|Women's Team|\n",
      "+-------------+--------------+--------------------+------------+\n",
      "only showing top 20 rows\n"
     ]
    }
   ],
   "source": [
    "teams.show()"
   ]
  },
  {
   "cell_type": "code",
   "execution_count": 0,
   "metadata": {
    "application/vnd.databricks.v1+cell": {
     "cellMetadata": {
      "byteLimit": 2048000,
      "rowLimit": 10000
     },
     "inputWidgets": {},
     "nuid": "ae09a198-8261-4602-8dbe-dc59c343a43a",
     "showTitle": false,
     "tableResultSettingsMap": {},
     "title": ""
    }
   },
   "outputs": [
    {
     "name": "stdout",
     "output_type": "stream",
     "text": [
      "root\n",
      " |-- TeamName: string (nullable = true)\n",
      " |-- Discipline: string (nullable = true)\n",
      " |-- Country: string (nullable = true)\n",
      " |-- Event: string (nullable = true)\n",
      "\n"
     ]
    }
   ],
   "source": [
    "teams.printSchema()\n"
   ]
  },
  {
   "cell_type": "code",
   "execution_count": 0,
   "metadata": {
    "application/vnd.databricks.v1+cell": {
     "cellMetadata": {
      "byteLimit": 2048000,
      "rowLimit": 10000
     },
     "inputWidgets": {},
     "nuid": "bc5e6fd6-9ad6-4ab5-b253-11aa8a386c32",
     "showTitle": false,
     "tableResultSettingsMap": {},
     "title": ""
    }
   },
   "outputs": [
    {
     "name": "stdout",
     "output_type": "stream",
     "text": [
      "+--------------------+----+\n",
      "|         TeamCountry|Gold|\n",
      "+--------------------+----+\n",
      "|                Cuba|   7|\n",
      "|         New Zealand|   7|\n",
      "|              Canada|   7|\n",
      "|              Brazil|   7|\n",
      "|   Republic of Korea|   6|\n",
      "|             Hungary|   6|\n",
      "|              Poland|   4|\n",
      "|             Jamaica|   4|\n",
      "|               Kenya|   4|\n",
      "|      Czech Republic|   4|\n",
      "|              Norway|   4|\n",
      "|United States of ...|  39|\n",
      "|People's Republic...|  38|\n",
      "|              Sweden|   3|\n",
      "|               Spain|   3|\n",
      "|             Denmark|   3|\n",
      "|         Switzerland|   3|\n",
      "|             Croatia|   3|\n",
      "|              Serbia|   3|\n",
      "|Islamic Republic ...|   3|\n",
      "+--------------------+----+\n",
      "only showing top 20 rows\n"
     ]
    }
   ],
   "source": [
    "# Find the top countries with the highest number of gold medals\n",
    "top_gold_medal_countries = medals.orderBy(\"Gold\", ascending=False).select(\"TeamCountry\",\"Gold\").show()"
   ]
  },
  {
   "cell_type": "code",
   "execution_count": 0,
   "metadata": {
    "application/vnd.databricks.v1+cell": {
     "cellMetadata": {
      "byteLimit": 2048000,
      "rowLimit": 10000
     },
     "inputWidgets": {},
     "nuid": "e2784239-8f3b-4a77-b280-d3fd45085e6a",
     "showTitle": false,
     "tableResultSettingsMap": {},
     "title": ""
    }
   },
   "outputs": [
    {
     "name": "stdout",
     "output_type": "stream",
     "text": [
      "+--------------------+------+----+-----+-------------------+-------------------+\n",
      "|          Discipline|Female|Male|Total|         Avg_Female|           Avg_Male|\n",
      "+--------------------+------+----+-----+-------------------+-------------------+\n",
      "|      3x3 Basketball|    32|  32|   64|                0.5|                0.5|\n",
      "|             Archery|    64|  64|  128|                0.5|                0.5|\n",
      "| Artistic Gymnastics|    98|  98|  196|                0.5|                0.5|\n",
      "|   Artistic Swimming|   105|   0|  105|                1.0|                0.0|\n",
      "|           Athletics|   969|1072| 2041| 0.4747672709456149| 0.5252327290543851|\n",
      "|           Badminton|    86|  87|  173|0.49710982658959535| 0.5028901734104047|\n",
      "|   Baseball/Softball|    90| 144|  234|0.38461538461538464| 0.6153846153846154|\n",
      "|          Basketball|   144| 144|  288|                0.5|                0.5|\n",
      "|    Beach Volleyball|    48|  48|   96|                0.5|                0.5|\n",
      "|              Boxing|   102| 187|  289|0.35294117647058826| 0.6470588235294118|\n",
      "|        Canoe Slalom|    41|  41|   82|                0.5|                0.5|\n",
      "|        Canoe Sprint|   123| 126|  249| 0.4939759036144578| 0.5060240963855421|\n",
      "|Cycling BMX Frees...|    10|   9|   19| 0.5263157894736842|0.47368421052631576|\n",
      "|  Cycling BMX Racing|    24|  24|   48|                0.5|                0.5|\n",
      "|Cycling Mountain ...|    38|  38|   76|                0.5|                0.5|\n",
      "|        Cycling Road|    70| 131|  201| 0.3482587064676617| 0.6517412935323383|\n",
      "|       Cycling Track|    90|  99|  189|0.47619047619047616| 0.5238095238095238|\n",
      "|              Diving|    72|  71|  143| 0.5034965034965035| 0.4965034965034965|\n",
      "|          Equestrian|    73| 125|  198| 0.3686868686868687| 0.6313131313131313|\n",
      "|             Fencing|   107| 108|  215|0.49767441860465117| 0.5023255813953489|\n",
      "+--------------------+------+----+-----+-------------------+-------------------+\n",
      "only showing top 20 rows\n"
     ]
    }
   ],
   "source": [
    "\n",
    "# Calculate the average number of entries by gender for each discipline\n",
    "average_entries_by_gender = entries_gender.withColumn(\n",
    "    'Avg_Female', entries_gender['Female'] / entries_gender['Total']\n",
    ").withColumn(\n",
    "    'Avg_Male', entries_gender['Male'] / entries_gender['Total']\n",
    ")\n",
    "average_entries_by_gender.show()"
   ]
  },
  {
   "cell_type": "code",
   "execution_count": 0,
   "metadata": {
    "application/vnd.databricks.v1+cell": {
     "cellMetadata": {
      "byteLimit": 2048000,
      "rowLimit": 10000
     },
     "inputWidgets": {},
     "nuid": "6e339d1d-4477-4dc6-8b00-e2fde5978856",
     "showTitle": false,
     "tableResultSettingsMap": {},
     "title": ""
    }
   },
   "outputs": [],
   "source": [
    "athletes.repartition(1).write.mode(\"overwrite\").option(\"header\",'true').csv(\"/mnt/tokyoolymic/transformed-data/athletes\")"
   ]
  },
  {
   "cell_type": "code",
   "execution_count": 0,
   "metadata": {
    "application/vnd.databricks.v1+cell": {
     "cellMetadata": {
      "byteLimit": 2048000,
      "rowLimit": 10000
     },
     "inputWidgets": {},
     "nuid": "36a97fbc-4f7b-4fa4-8217-e7100a3aa87b",
     "showTitle": false,
     "tableResultSettingsMap": {},
     "title": ""
    }
   },
   "outputs": [],
   "source": [
    "coaches.repartition(1).write.mode(\"overwrite\").option(\"header\",\"true\").csv(\"/mnt/tokyoolymic/transformed-data/coaches\")\n",
    "entries_gender.repartition(1).write.mode(\"overwrite\").option(\"header\",\"true\").csv(\"/mnt/tokyoolymic/transformed-data/entriesgender\")\n",
    "medals.repartition(1).write.mode(\"overwrite\").option(\"header\",\"true\").csv(\"/mnt/tokyoolymic/transformed-data/medals\")\n",
    "teams.repartition(1).write.mode(\"overwrite\").option(\"header\",\"true\").csv(\"/mnt/tokyoolymic/transformed-data/teams\")"
   ]
  }
 ],
 "metadata": {
  "application/vnd.databricks.v1+notebook": {
   "computePreferences": null,
   "dashboards": [],
   "environmentMetadata": {
    "base_environment": "",
    "environment_version": "3"
   },
   "inputWidgetPreferences": null,
   "language": "python",
   "notebookMetadata": {
    "mostRecentlyExecutedCommandWithImplicitDF": {
     "commandId": 4877931423914326,
     "dataframes": [
      "_sqldf"
     ]
    },
    "pythonIndentUnit": 4
   },
   "notebookName": "Tokyo Olympic Transformation",
   "widgets": {}
  },
  "language_info": {
   "name": "python"
  }
 },
 "nbformat": 4,
 "nbformat_minor": 0
}
